{
  "nbformat": 4,
  "nbformat_minor": 0,
  "metadata": {
    "colab": {
      "provenance": [],
      "authorship_tag": "ABX9TyMWVU0MGAwupbKWESd1iegf",
      "include_colab_link": true
    },
    "kernelspec": {
      "name": "python3",
      "display_name": "Python 3"
    },
    "language_info": {
      "name": "python"
    }
  },
  "cells": [
    {
      "cell_type": "markdown",
      "metadata": {
        "id": "view-in-github",
        "colab_type": "text"
      },
      "source": [
        "<a href=\"https://colab.research.google.com/github/Viktory4121/MORD/blob/main/%D0%9D%D0%A1.ipynb\" target=\"_parent\"><img src=\"https://colab.research.google.com/assets/colab-badge.svg\" alt=\"Open In Colab\"/></a>"
      ]
    },
    {
      "cell_type": "markdown",
      "source": [
        "#Нейронные сети\n",
        "####Вариант 5:\n",
        "Просчитать одну итерацию цикла обучения по Δ-правилу однослойной бинарной\n",
        "неоднородной нейронной сети, состоящей из 2 нейронов и имеющей функции активации: гиперболический тангенс ($k=2$) и пороговую функцию ($Т=0.5$). В качестве обучающей выборки использовать таблицу истинности для операций эквивалентности и конъюнкции (не использовать первую строчку таблицы). Синаптические веса задать случайным образом."
      ],
      "metadata": {
        "id": "fbOsAg_fgEgM"
      }
    },
    {
      "cell_type": "code",
      "execution_count": 1,
      "metadata": {
        "id": "AwwTm7IZfs_x"
      },
      "outputs": [],
      "source": [
        "import numpy as np\n",
        "import pandas as pd\n",
        "import random\n",
        "import copy\n",
        "import math\n",
        "import itertools as it"
      ]
    },
    {
      "cell_type": "code",
      "source": [
        "#Коэффициент обучения (точность) [0;1]\n",
        "learningRate = 0.0001\n",
        "#Количество слоёв\n",
        "layer = 1\n",
        "#количество нейронов на каждом слое\n",
        "neurons = 2\n",
        "\n",
        "#функция активации\n",
        "def activationFunction(S, k = 2):\n",
        "  #return 1.0 / (1 + math.exp(- S * k))   #сигмоидная функция\n",
        "  return math.tanh(S / k)                   #гиперболический тангенс\n",
        "\n",
        "#Пороговая функция\n",
        "def thresholdFunction(S, T = 0.5):\n",
        "  return 1 if S >= T else 0\n",
        "\n",
        "def randomVector(size = 2):\n",
        "  return [random.uniform(0, 1) for i in range(size)]"
      ],
      "metadata": {
        "id": "MvjfblHqgLby"
      },
      "execution_count": 2,
      "outputs": []
    },
    {
      "cell_type": "code",
      "source": [
        "def deltaRule(data, level = 1, N = 2, eps = 0.01):\n",
        "  w0 = randomVector(4) #синаптические веса\n",
        "\n",
        "  return 0"
      ],
      "metadata": {
        "id": "k9-LYfxGhws9"
      },
      "execution_count": null,
      "outputs": []
    },
    {
      "cell_type": "code",
      "source": [
        "table = []\n",
        "\n",
        "deltaRule(table, layer, neurons, learningRate)"
      ],
      "metadata": {
        "id": "gnp548Y2o4P5"
      },
      "execution_count": null,
      "outputs": []
    }
  ]
}