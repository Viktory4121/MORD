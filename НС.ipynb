{
  "nbformat": 4,
  "nbformat_minor": 0,
  "metadata": {
    "colab": {
      "provenance": [],
      "authorship_tag": "ABX9TyNOMa6pwRb1MRrNCBG2eAPB",
      "include_colab_link": true
    },
    "kernelspec": {
      "name": "python3",
      "display_name": "Python 3"
    },
    "language_info": {
      "name": "python"
    }
  },
  "cells": [
    {
      "cell_type": "markdown",
      "metadata": {
        "id": "view-in-github",
        "colab_type": "text"
      },
      "source": [
        "<a href=\"https://colab.research.google.com/github/Viktory4121/MORD/blob/main/%D0%9D%D0%A1.ipynb\" target=\"_parent\"><img src=\"https://colab.research.google.com/assets/colab-badge.svg\" alt=\"Open In Colab\"/></a>"
      ]
    },
    {
      "cell_type": "markdown",
      "source": [
        "#Нейронные сети\n",
        "####Вариант 5:\n",
        "Просчитать одну итерацию цикла обучения по Δ-правилу однослойной бинарной\n",
        "неоднородной нейронной сети, состоящей из 2 нейронов и имеющей функции активации: гиперболический тангенс ($k=2$) и пороговую функцию ($Т=0.5$). В качестве обучающей выборки использовать таблицу истинности для операций эквивалентности и конъюнкции (не использовать первую строчку таблицы). Синаптические веса задать случайным образом."
      ],
      "metadata": {
        "id": "fbOsAg_fgEgM"
      }
    },
    {
      "cell_type": "code",
      "execution_count": 60,
      "metadata": {
        "id": "AwwTm7IZfs_x"
      },
      "outputs": [],
      "source": [
        "import numpy as np\n",
        "import pandas as pd\n",
        "import random\n",
        "import copy\n",
        "import math\n",
        "import itertools as it"
      ]
    },
    {
      "cell_type": "code",
      "source": [
        "#Коэффициент обучения (точность) [0;1]\n",
        "learningRate = 0.6\n",
        "#Количество слоёв\n",
        "layer = 1\n",
        "#количество нейронов на каждом слое\n",
        "neurons = 2\n",
        "\n",
        "#--------------------------------------------------------------------\n",
        "\n",
        "#функции активации\n",
        "#гиперболический тангенс:\n",
        "def hyperbolicTangentFunction(S, k = 2):\n",
        "  return math.tanh(S / k)\n",
        "#сигмоидная функция:\n",
        "def sigmoidFunction(S, k = 2):\n",
        "  return 1.0 / (1 + math.exp(- S * k))\n",
        "#Пороговая функция:\n",
        "def thresholdFunction(S, T = 0.5):\n",
        "  return 1 if S >= T else 0\n",
        "\n",
        "#--------------------------------------------------------------------\n",
        "\n",
        "def randomVector(size = 2):\n",
        "  return [random.uniform(0, 1) for i in range(size)]\n",
        "\n",
        "def randomNumber():\n",
        "  return random.uniform(0, 1)\n",
        "\n",
        "def equiv(a,b): # эквивалентность ~\n",
        "  rez = 0\n",
        "  if((a == 1 and b == 1) or (a == 0 and b == 0)): rez = 1\n",
        "  return rez"
      ],
      "metadata": {
        "id": "MvjfblHqgLby"
      },
      "execution_count": 61,
      "outputs": []
    },
    {
      "cell_type": "code",
      "source": [
        "def deltaRule(data, level = 1, N = 2, nabla = 0.1):\n",
        "  wi = [[randomNumber() for i in range(N)] for j in range(N)]         #синаптические веса\n",
        "  si = [0] * N\n",
        "  yi = [0] * N\n",
        "  epsi = [0] * N\n",
        "\n",
        "  level_i = 0\n",
        "  k = 0\n",
        "  while(level_i < level): #цикл по слоям\n",
        "    while(k < len(data)): #цикл по строкам таблицы с данными\n",
        "      eps = 0\n",
        "      print(\"Матрица весов:\")\n",
        "      print(pd.DataFrame(wi))\n",
        "      print(\"\\nДля x = ( \" + str(data[data.columns[0]][k]) + \", \" + str(data[data.columns[1]][k]) + ' )')\n",
        "\n",
        "      for i in range(N):\n",
        "        for j in range(N):\n",
        "          si[i] += data[data.columns[j]][k] * wi[j][i]\n",
        "\n",
        "        yi[i] = hyperbolicTangentFunction(si[i])\n",
        "        epsi[i] = data[data.columns[N + i]][k] - yi[i]\n",
        "        eps += epsi[i]**2\n",
        "\n",
        "      rez_i = pd.DataFrame([si, yi, epsi], index=['S', 'Y расч.', 'EPS'], columns=['neuron 1', 'neuron 2'])\n",
        "      print(rez_i)\n",
        "      print(\"\\nСКО: \" + str(eps) + \"\\n\\n\")\n",
        "\n",
        "      #вычисление весов для следующей итерации:\n",
        "      for i in range(N):\n",
        "        for j in range(N):\n",
        "          wi[j][i] = wi[j][i] - nabla * epsi[i] * data[data.columns[j]][k]\n",
        "\n",
        "      k += 1\n",
        "    level_i += 1\n",
        "\n",
        "\n",
        "  #return 0"
      ],
      "metadata": {
        "id": "k9-LYfxGhws9"
      },
      "execution_count": 62,
      "outputs": []
    },
    {
      "cell_type": "code",
      "source": [
        "functions = [hyperbolicTangentFunction, thresholdFunction]\n",
        "\n",
        "table = pd.DataFrame(it.product([0,1], repeat=2), columns=['X1', 'X2'])\n",
        "table['Y1 = equivalence (~)'] = [equiv(table[table.columns[0]][i], table[table.columns[1]][i]) for i in range(2**neurons)]\n",
        "table['Y2 = conjunction (^)'] = [(table[table.columns[0]][i] and table[table.columns[1]][i]) for i in range(2**neurons)]\n",
        "\n",
        "deltaRule(table, layer, neurons, learningRate)"
      ],
      "metadata": {
        "id": "gnp548Y2o4P5",
        "outputId": "7d36cf72-7b7a-4eaf-b075-d18a920f2b10",
        "colab": {
          "base_uri": "https://localhost:8080/"
        }
      },
      "execution_count": 64,
      "outputs": [
        {
          "output_type": "stream",
          "name": "stdout",
          "text": [
            "Матрица весов:\n",
            "          0         1\n",
            "0  0.061770  0.000268\n",
            "1  0.736194  0.617260\n",
            "\n",
            "Для x = ( 0, 0 )\n",
            "     neuron 1  neuron 2\n",
            "S         0.0       0.0\n",
            "Y         0.0       0.0\n",
            "EPS       1.0       0.0\n",
            "\n",
            "СКО: 1.0\n",
            "\n",
            "\n",
            "Матрица весов:\n",
            "          0         1\n",
            "0  0.061770  0.000268\n",
            "1  0.736194  0.617260\n",
            "\n",
            "Для x = ( 0, 1 )\n",
            "     neuron 1  neuron 2\n",
            "S    0.736194   0.61726\n",
            "Y    0.352326   0.29919\n",
            "EPS -0.352326  -0.29919\n",
            "\n",
            "СКО: 0.21364850062629676\n",
            "\n",
            "\n",
            "Матрица весов:\n",
            "         0         1\n",
            "0  0.06177  0.000268\n",
            "1  0.94759  0.796774\n",
            "\n",
            "Для x = ( 1, 0 )\n",
            "     neuron 1  neuron 2\n",
            "S    0.797964  0.617527\n",
            "Y    0.379078  0.299312\n",
            "EPS -0.379078 -0.299312\n",
            "\n",
            "СКО: 0.23328752778092576\n",
            "\n",
            "\n",
            "Матрица весов:\n",
            "          0         1\n",
            "0  0.289216  0.179855\n",
            "1  0.947590  0.796774\n",
            "\n",
            "Для x = ( 1, 1 )\n",
            "     neuron 1  neuron 2\n",
            "S    2.034770  1.594156\n",
            "Y    0.768799  0.662400\n",
            "EPS  0.231201  0.337600\n",
            "\n",
            "СКО: 0.1674273974330554\n",
            "\n",
            "\n"
          ]
        }
      ]
    },
    {
      "cell_type": "code",
      "source": [
        "#1-Количество входов и выходов могут быть различны\n",
        "#2-Реализовать расчёт промежуточных слоёв"
      ],
      "metadata": {
        "id": "V8r9bKP9vnfe"
      },
      "execution_count": null,
      "outputs": []
    }
  ]
}