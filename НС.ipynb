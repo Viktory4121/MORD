{
  "nbformat": 4,
  "nbformat_minor": 0,
  "metadata": {
    "colab": {
      "provenance": [],
      "authorship_tag": "ABX9TyNnt8gjndrWEjqgDJtAXgUq",
      "include_colab_link": true
    },
    "kernelspec": {
      "name": "python3",
      "display_name": "Python 3"
    },
    "language_info": {
      "name": "python"
    }
  },
  "cells": [
    {
      "cell_type": "markdown",
      "metadata": {
        "id": "view-in-github",
        "colab_type": "text"
      },
      "source": [
        "<a href=\"https://colab.research.google.com/github/Viktory4121/MORD/blob/main/%D0%9D%D0%A1.ipynb\" target=\"_parent\"><img src=\"https://colab.research.google.com/assets/colab-badge.svg\" alt=\"Open In Colab\"/></a>"
      ]
    },
    {
      "cell_type": "markdown",
      "source": [
        "#Нейронные сети\n",
        "####Вариант 5:\n",
        "Просчитать одну итерацию цикла обучения по Δ-правилу однослойной бинарной\n",
        "неоднородной нейронной сети, состоящей из 2 нейронов и имеющей функции активации: гиперболический тангенс ($k=2$) и пороговую функцию ($Т=0.5$). В качестве обучающей выборки использовать таблицу истинности для операций эквивалентности и конъюнкции (не использовать первую строчку таблицы). Синаптические веса задать случайным образом."
      ],
      "metadata": {
        "id": "fbOsAg_fgEgM"
      }
    },
    {
      "cell_type": "code",
      "execution_count": 8,
      "metadata": {
        "id": "AwwTm7IZfs_x"
      },
      "outputs": [],
      "source": [
        "import numpy as np\n",
        "import pandas as pd\n",
        "import random\n",
        "import copy\n",
        "import math\n",
        "import itertools as it"
      ]
    },
    {
      "cell_type": "code",
      "source": [
        "#Коэффициент обучения (точность) [0;1]\n",
        "learningRate = 0.6\n",
        "#Количество слоёв\n",
        "layer = 1\n",
        "#количество нейронов на каждом слое\n",
        "neurons = 2\n",
        "\n",
        "#--------------------------------------------------------------------\n",
        "\n",
        "#функции активации\n",
        "#гиперболический тангенс:\n",
        "def hyperbolicTangentFunction(S, k = 2):\n",
        "  return math.tanh(S / k)\n",
        "#сигмоидная функция:\n",
        "def sigmoidFunction(S, k = 2):\n",
        "  return 1.0 / (1 + math.exp(- S * k))\n",
        "#Пороговая функция:\n",
        "def thresholdFunction(S, T = 0.5):\n",
        "  return 1 if S >= T else 0\n",
        "\n",
        "#--------------------------------------------------------------------\n",
        "\n",
        "def randomVector(size = 2):\n",
        "  return [random.uniform(0, 1) for i in range(size)]\n",
        "\n",
        "def randomNumber():\n",
        "  return random.uniform(0, 1)\n",
        "\n",
        "def equiv(a,b): # эквивалентность ~\n",
        "  rez = 0\n",
        "  if((a == 1 and b == 1) or (a == 0 and b == 0)): rez = 1\n",
        "  return rez"
      ],
      "metadata": {
        "id": "MvjfblHqgLby"
      },
      "execution_count": 13,
      "outputs": []
    },
    {
      "cell_type": "code",
      "source": [
        "def deltaRule(data, level = 1, N = 2, nabla = 0.1):\n",
        "  wi = [[randomNumber() for i in range(N)] for j in range(N)]         #синаптические веса\n",
        "  si = [0] * N\n",
        "  yi = [0] * N\n",
        "  epsi = [0] * N\n",
        "\n",
        "  level_i = 0\n",
        "  k = 0\n",
        "  while(level_i < level): #цикл по нейронным слоям\n",
        "    while(k < len(data)): #цикл по строкам таблицы с данными\n",
        "      eps = 0\n",
        "      print(\"Матрица весов:\")\n",
        "      print(pd.DataFrame(wi))\n",
        "      print(\"\\nДля x = ( \" + str(data[data.columns[0]][k]) + \", \" + str(data[data.columns[1]][k]) + ' )')\n",
        "\n",
        "      for i in range(N):\n",
        "        for j in range(N):\n",
        "          si[i] += data[data.columns[j]][k] * wi[j][i]\n",
        "\n",
        "        yi[i] = hyperbolicTangentFunction(si[i])\n",
        "        epsi[i] = data[data.columns[N + i]][k] - yi[i]\n",
        "\n",
        "        print('S_' + str(i + 1) + ' = ' + str(si[i]))\n",
        "        print('E_' + str(i + 1) + ' = ' +  str(yi[i]))\n",
        "        print('EPS_' + str(i + 1) + ' = ' +  str(epsi[i]))\n",
        "\n",
        "        eps += epsi[i]**2\n",
        "\n",
        "      for i in range(N):\n",
        "        for j in range(N):\n",
        "          wi[j][i] = wi[j][i] - nabla * epsi[i] * data[data.columns[j]][k]\n",
        "\n",
        "      print(\"\\nСКО: \" + str(eps) + \"\\n\\n\")\n",
        "\n",
        "      k += 1\n",
        "    level_i += 1\n",
        "\n",
        "\n",
        "  #return 0"
      ],
      "metadata": {
        "id": "k9-LYfxGhws9"
      },
      "execution_count": 56,
      "outputs": []
    },
    {
      "cell_type": "code",
      "source": [
        "functions = [hyperbolicTangentFunction, thresholdFunction]\n",
        "\n",
        "table = pd.DataFrame(it.product([0,1], repeat=2), columns=['X1', 'X2'])\n",
        "table['Y1 = equivalence (~)'] = [equiv(table[table.columns[0]][i], table[table.columns[1]][i]) for i in range(2**neurons)]\n",
        "table['Y2 = conjunction (^)'] = [(table[table.columns[0]][i] and table[table.columns[1]][i]) for i in range(2**neurons)]\n",
        "\n",
        "deltaRule(table, layer, neurons, learningRate)"
      ],
      "metadata": {
        "id": "gnp548Y2o4P5",
        "outputId": "44912af7-e658-4920-f6ab-c855de56d181",
        "colab": {
          "base_uri": "https://localhost:8080/"
        }
      },
      "execution_count": 57,
      "outputs": [
        {
          "output_type": "stream",
          "name": "stdout",
          "text": [
            "Матрица весов:\n",
            "          0         1\n",
            "0  0.653641  0.348315\n",
            "1  0.142809  0.675874\n",
            "\n",
            "Для x = ( 0, 0 )\n",
            "S_1 = 0.0\n",
            "E_1 = 0.0\n",
            "EPS_1 = 1.0\n",
            "S_2 = 0.0\n",
            "E_2 = 0.0\n",
            "EPS_2 = 0.0\n",
            "\n",
            "СКО: 1.0\n",
            "\n",
            "\n",
            "Матрица весов:\n",
            "          0         1\n",
            "0  0.653641  0.348315\n",
            "1  0.142809  0.675874\n",
            "\n",
            "Для x = ( 0, 1 )\n",
            "S_1 = 0.14280911596700352\n",
            "E_1 = 0.07128345028402011\n",
            "EPS_1 = -0.07128345028402011\n",
            "S_2 = 0.6758739505217749\n",
            "E_2 = 0.32563436929961814\n",
            "EPS_2 = -0.32563436929961814\n",
            "\n",
            "СКО: 0.11111907275355445\n",
            "\n",
            "\n",
            "Матрица весов:\n",
            "          0         1\n",
            "0  0.653641  0.348315\n",
            "1  0.185579  0.871255\n",
            "\n",
            "Для x = ( 1, 0 )\n",
            "S_1 = 0.7964500082737953\n",
            "E_1 = 0.37842918359505956\n",
            "EPS_1 = -0.37842918359505956\n",
            "S_2 = 1.024189383274424\n",
            "E_2 = 0.4715756736769733\n",
            "EPS_2 = -0.4715756736769733\n",
            "\n",
            "СКО: 0.3655922630003145\n",
            "\n",
            "\n",
            "Матрица весов:\n",
            "          0         1\n",
            "0  0.880698  0.631261\n",
            "1  0.185579  0.871255\n",
            "\n",
            "Для x = ( 1, 1 )\n",
            "S_1 = 1.8627275968750385\n",
            "E_1 = 0.7312291100213517\n",
            "EPS_1 = 0.2687708899786483\n",
            "S_2 = 2.5267047923348027\n",
            "E_2 = 0.8519856985278291\n",
            "EPS_2 = 0.14801430147217087\n",
            "\n",
            "СКО: 0.09414602474020935\n",
            "\n",
            "\n",
            "   X1  X2  Y1 = equivalence (~)  Y2 = conjunction (^)\n",
            "0   0   0                     1                     0\n",
            "1   0   1                     0                     0\n",
            "2   1   0                     0                     0\n",
            "3   1   1                     1                     1\n"
          ]
        }
      ]
    },
    {
      "cell_type": "code",
      "source": [
        "#1-Количество входов и выходов могут быть различны\n",
        "#2-Реализовать расчёт промежуточных слоёв"
      ],
      "metadata": {
        "id": "V8r9bKP9vnfe"
      },
      "execution_count": 58,
      "outputs": []
    }
  ]
}