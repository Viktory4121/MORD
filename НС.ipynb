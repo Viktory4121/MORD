{
  "nbformat": 4,
  "nbformat_minor": 0,
  "metadata": {
    "colab": {
      "provenance": [],
      "authorship_tag": "ABX9TyPNmw1/+PZadTBc22C9amBi",
      "include_colab_link": true
    },
    "kernelspec": {
      "name": "python3",
      "display_name": "Python 3"
    },
    "language_info": {
      "name": "python"
    }
  },
  "cells": [
    {
      "cell_type": "markdown",
      "metadata": {
        "id": "view-in-github",
        "colab_type": "text"
      },
      "source": [
        "<a href=\"https://colab.research.google.com/github/Viktory4121/MORD/blob/main/%D0%9D%D0%A1.ipynb\" target=\"_parent\"><img src=\"https://colab.research.google.com/assets/colab-badge.svg\" alt=\"Open In Colab\"/></a>"
      ]
    },
    {
      "cell_type": "markdown",
      "source": [
        "#Нейронные сети\n",
        "####Вариант 5:\n",
        "Просчитать одну итерацию цикла обучения по Δ-правилу однослойной бинарной\n",
        "неоднородной нейронной сети, состоящей из 2 нейронов и имеющей функции активации: гиперболический тангенс ($k=2$) и пороговую функцию ($Т=0.5$). В качестве обучающей выборки использовать таблицу истинности для операций эквивалентности и конъюнкции (не использовать первую строчку таблицы). Синаптические веса задать случайным образом."
      ],
      "metadata": {
        "id": "fbOsAg_fgEgM"
      }
    },
    {
      "cell_type": "code",
      "execution_count": 1,
      "metadata": {
        "id": "AwwTm7IZfs_x"
      },
      "outputs": [],
      "source": [
        "import numpy as np\n",
        "import pandas as pd\n",
        "import random\n",
        "import copy\n",
        "import math\n",
        "import itertools as it"
      ]
    },
    {
      "cell_type": "code",
      "source": [
        "#Коэффициент обучения (точность) [0;1]\n",
        "learningRate = 0.8\n",
        "#Количество слоёв\n",
        "layer = 1\n",
        "#количество нейронов на каждом слое\n",
        "neurons = 2\n",
        "#количество входов/выходов соответственно\n",
        "countX = 2\n",
        "countY = 2\n",
        "\n",
        "networkCharact = [layer, neurons, learningRate]\n",
        "inpOutCounts = [countX, countY]\n",
        "\n",
        "#--------------------------------------------------------------------\n",
        "\n",
        "#функции активации\n",
        "#гиперболический тангенс:\n",
        "def hyperbolicTangentFunction(S, k = 2):\n",
        "  return math.tanh(S / k)\n",
        "#сигмоидная функция:\n",
        "def sigmoidFunction(S, k = 2):\n",
        "  return 1.0 / (1 + math.exp(- S * k))\n",
        "#Пороговая функция:\n",
        "def thresholdFunction(S, T = 0.5):\n",
        "  return 1 if S >= T else 0\n",
        "\n",
        "#--------------------------------------------------------------------\n",
        "\n",
        "def randomVector(size = 2):\n",
        "  return [random.uniform(0, 1) for i in range(size)]\n",
        "\n",
        "def randomNumber():\n",
        "  return random.uniform(0, 1)\n",
        "\n",
        "def equiv(a,b): # эквивалентность ~\n",
        "  rez = 0\n",
        "  if((a == 1 and b == 1) or (a == 0 and b == 0)): rez = 1\n",
        "  return rez"
      ],
      "metadata": {
        "id": "MvjfblHqgLby"
      },
      "execution_count": 2,
      "outputs": []
    },
    {
      "cell_type": "code",
      "source": [
        "#charactNet = [кол-во слоёв, кол-во нейронов, коэф. обучения]\n",
        "#sizeSystem = [кол-во входов, кол-во выходов]\n",
        "\n",
        "\n",
        "#random.sample(data, len(data) - 1) --- случайный выбор индекса\n",
        "\n",
        "def deltaRule(function, data, charactNet, sizeSystem):\n",
        "\n",
        "  si = [0] * sizeSystem[1]\n",
        "  yi = [0] * sizeSystem[1]\n",
        "  epsi = [0] * sizeSystem[1]\n",
        "  level_i = 0\n",
        "  k = 0\n",
        "\n",
        "  while(level_i < charactNet[0]): #цикл по слоям\n",
        "    wi = [[randomNumber() for i in range(sizeSystem[0])] for j in range(charactNet[1])] #синаптические веса\n",
        "\n",
        "    print(\"\\tЭпоха №\" + str(level_i + 1))\n",
        "\n",
        "    while(k < len(data)): #цикл по строкам таблицы с данными\n",
        "      eps = 0\n",
        "      print(\"Матрица весов для \" + str(k + 1) + \"-й итерации:\")\n",
        "      print(pd.DataFrame(wi))\n",
        "      print(\"\\nДля X = ( \" + str(data[data.columns[0]][k]) + \", \" + str(data[data.columns[1]][k]) + ' )')\n",
        "\n",
        "      for i in range(charactNet[1]): #по нейронам\n",
        "        for j in range(sizeSystem[0]): #по входам\n",
        "          si[i] += data[data.columns[j]][k] * wi[j][i]\n",
        "\n",
        "        #сделать проверку на сравнение количества нейронов и выходов для последнего слоя!!!!!!!!!!!!!!!!!!!!!!!!!!!!!!!!!!!!!!!!!!!!!!!!!!!!!!!!!!!!!!!!!!!!\n",
        "        yi[i] = function(si[i])\n",
        "        epsi[i] = data[data.columns[sizeSystem[1] + i]][k] - yi[i]\n",
        "        eps += epsi[i]**2\n",
        "\n",
        "      rez_i = pd.DataFrame([si, yi, epsi], index=['S', 'Y расч.', 'EPS'], columns=['neuron ' + str(i+1) for i in range(sizeSystem[1])])\n",
        "      print(rez_i)\n",
        "      print(\"\\nСКО: \" + str(eps) + \"\\n\\n\")\n",
        "\n",
        "      #вычисление весов для следующей итерации:\n",
        "      for i in range(charactNet[1]):\n",
        "        for j in range(sizeSystem[0]):\n",
        "          wi[j][i] = wi[j][i] - charactNet[2] * epsi[i] * data[data.columns[j]][k]\n",
        "\n",
        "      k += 1\n",
        "\n",
        "    level_i += 1\n",
        "    k = 0\n",
        "\n",
        "  #"
      ],
      "metadata": {
        "id": "k9-LYfxGhws9"
      },
      "execution_count": 3,
      "outputs": []
    },
    {
      "cell_type": "code",
      "source": [
        "table = pd.DataFrame(it.product([0,1], repeat=countX), columns=['X' + str(i + 1) for i in range(countX)])\n",
        "table['Y1 = equivalence (~)'] = [equiv(table[table.columns[0]][i], table[table.columns[1]][i]) for i in range(2**neurons)]\n",
        "table['Y2 = conjunction (^)'] = [(table[table.columns[0]][i] and table[table.columns[1]][i]) for i in range(2**neurons)]\n",
        "\n",
        "deltaRule(hyperbolicTangentFunction, table, networkCharact, inpOutCounts)\n",
        "#deltaRule(sigmoidFunction, table, layer, neurons, learningRate)\n",
        "#deltaRule(thresholdFunction, table, layer, neurons, learningRate)"
      ],
      "metadata": {
        "id": "gnp548Y2o4P5",
        "outputId": "1df479d0-d016-460f-d2cd-3a5892ff8f5b",
        "colab": {
          "base_uri": "https://localhost:8080/"
        }
      },
      "execution_count": null,
      "outputs": [
        {
          "output_type": "stream",
          "name": "stdout",
          "text": [
            "\tЭпоха №1\n",
            "Матрица весов для 1-й итерации:\n",
            "          0         1\n",
            "0  0.797455  0.042986\n",
            "1  0.887484  0.548104\n",
            "\n",
            "Для X = ( 0, 0 )\n",
            "         neuron 1  neuron 2\n",
            "S             0.0       0.0\n",
            "Y расч.       0.0       0.0\n",
            "EPS           1.0       0.0\n",
            "\n",
            "СКО: 1.0\n",
            "\n",
            "\n",
            "Матрица весов для 2-й итерации:\n",
            "          0         1\n",
            "0  0.797455  0.042986\n",
            "1  0.887484  0.548104\n",
            "\n",
            "Для X = ( 0, 1 )\n",
            "         neuron 1  neuron 2\n",
            "S        0.887484  0.548104\n",
            "Y расч.  0.416741  0.267391\n",
            "EPS     -0.416741 -0.267391\n",
            "\n",
            "СКО: 0.24517137002763426\n",
            "\n",
            "\n",
            "Матрица весов для 3-й итерации:\n",
            "          0         1\n",
            "0  0.797455  0.042986\n",
            "1  1.220877  0.762017\n",
            "\n",
            "Для X = ( 1, 0 )\n",
            "         neuron 1  neuron 2\n",
            "S        1.684939  0.591091\n",
            "Y расч.  0.687115  0.287231\n",
            "EPS     -0.687115 -0.287231\n",
            "\n",
            "СКО: 0.5546282899490129\n",
            "\n",
            "\n",
            "Матрица весов для 4-й итерации:\n",
            "          0         1\n",
            "0  1.347147  0.272771\n",
            "1  1.220877  0.762017\n",
            "\n",
            "Для X = ( 1, 1 )\n",
            "         neuron 1  neuron 2\n",
            "S        4.252963  1.625879\n",
            "Y расч.  0.971955  0.671209\n",
            "EPS      0.028045  0.328791\n",
            "\n",
            "СКО: 0.1088903801319449\n",
            "\n",
            "\n"
          ]
        }
      ]
    },
    {
      "cell_type": "code",
      "source": [
        "#1-Количество входов и выходов могут быть различны +\n",
        "#2-Реализовать расчёт промежуточных слоёв"
      ],
      "metadata": {
        "id": "V8r9bKP9vnfe"
      },
      "execution_count": null,
      "outputs": []
    },
    {
      "cell_type": "code",
      "source": [
        "#Характеристики многослойной сети:\n",
        "#1- вектор из кол-ва нейронов в каждом слое (в каждом слое м/б разное кол-во нейронов)\n",
        "#2- кол-во выходов = кол-ву нейронов в крайнем слое\n",
        "#3- входов может быть сколько угодно +\n",
        "#4- в цикле: wij: i-номер нейрона, j-номер входа +\n",
        "#5- размер s, eps равен количеству выходов +"
      ],
      "metadata": {
        "id": "aCeNLCU8sWsx"
      },
      "execution_count": null,
      "outputs": []
    },
    {
      "cell_type": "code",
      "source": [
        "#1-Добавить условие для последнего слоя, где сравнивается кол-во нейронов и кол-во выходов\n",
        "#2-"
      ],
      "metadata": {
        "id": "-3CyQQnv6p89"
      },
      "execution_count": null,
      "outputs": []
    },
    {
      "cell_type": "code",
      "source": [
        "#для случайного отбора строк данных в модель\n",
        "tt = [[1,2], [3,4], [5,6], [5,6], [5,6], [5,6], [5,6], [5,6], [5,6], [5,6], [5,6], [5,6]]\n",
        "rr = [i for i in range(0, len(tt))]\n",
        "random.shuffle(rr)\n",
        "rr"
      ],
      "metadata": {
        "id": "wUi23io3DcqL",
        "outputId": "c21432ba-b86d-4fa0-fd03-e21731765a61",
        "colab": {
          "base_uri": "https://localhost:8080/"
        }
      },
      "execution_count": 16,
      "outputs": [
        {
          "output_type": "execute_result",
          "data": {
            "text/plain": [
              "[0, 9, 3, 1, 11, 2, 10, 5, 6, 4, 7, 8]"
            ]
          },
          "metadata": {},
          "execution_count": 16
        }
      ]
    }
  ]
}