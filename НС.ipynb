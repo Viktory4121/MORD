{
  "nbformat": 4,
  "nbformat_minor": 0,
  "metadata": {
    "colab": {
      "provenance": [],
      "authorship_tag": "ABX9TyOp6Kxyrwx2kpVYxeVvWjz4",
      "include_colab_link": true
    },
    "kernelspec": {
      "name": "python3",
      "display_name": "Python 3"
    },
    "language_info": {
      "name": "python"
    }
  },
  "cells": [
    {
      "cell_type": "markdown",
      "metadata": {
        "id": "view-in-github",
        "colab_type": "text"
      },
      "source": [
        "<a href=\"https://colab.research.google.com/github/Viktory4121/MORD/blob/main/%D0%9D%D0%A1.ipynb\" target=\"_parent\"><img src=\"https://colab.research.google.com/assets/colab-badge.svg\" alt=\"Open In Colab\"/></a>"
      ]
    },
    {
      "cell_type": "markdown",
      "source": [
        "#Нейронные сети\n",
        "####Вариант 5:\n",
        "Просчитать одну итерацию цикла обучения по Δ-правилу однослойной бинарной\n",
        "неоднородной нейронной сети, состоящей из 2 нейронов и имеющей функции активации: гиперболический тангенс ($k=2$) и пороговую функцию ($Т=0.5$). В качестве обучающей выборки использовать таблицу истинности для операций эквивалентности и конъюнкции (не использовать первую строчку таблицы). Синаптические веса задать случайным образом."
      ],
      "metadata": {
        "id": "fbOsAg_fgEgM"
      }
    },
    {
      "cell_type": "code",
      "execution_count": 1,
      "metadata": {
        "id": "AwwTm7IZfs_x"
      },
      "outputs": [],
      "source": [
        "import numpy as np\n",
        "import pandas as pd\n",
        "import random\n",
        "import copy\n",
        "import math\n",
        "import itertools as it"
      ]
    },
    {
      "cell_type": "code",
      "source": [
        "#Коэффициент обучения (точность) [0;1]\n",
        "learningRate = 0.6\n",
        "#Количество слоёв\n",
        "layer = 1\n",
        "#количество нейронов на каждом слое\n",
        "neurons = 2\n",
        "#количество входов/выходов соответственно\n",
        "countX = 2\n",
        "countY = 2\n",
        "\n",
        "networkCharact = [layer, neurons, countX, countY, learningRate]\n",
        "\n",
        "#--------------------------------------------------------------------\n",
        "\n",
        "#функции активации\n",
        "#гиперболический тангенс:\n",
        "def hyperbolicTangentFunction(S, k = 2):\n",
        "  return math.tanh(S / k)\n",
        "#сигмоидная функция:\n",
        "def sigmoidFunction(S, k = 2):\n",
        "  return 1.0 / (1 + math.exp(- S * k))\n",
        "#Пороговая функция:\n",
        "def thresholdFunction(S, T = 0.5):\n",
        "  return 1 if S >= T else 0\n",
        "\n",
        "#--------------------------------------------------------------------\n",
        "\n",
        "def randomVector(size = 2):\n",
        "  return [random.uniform(0, 1) for i in range(size)]\n",
        "\n",
        "def randomNumber():\n",
        "  return random.uniform(0, 1)\n",
        "\n",
        "def equiv(a,b): # эквивалентность ~\n",
        "  rez = 0\n",
        "  if((a == 1 and b == 1) or (a == 0 and b == 0)): rez = 1\n",
        "  return rez"
      ],
      "metadata": {
        "id": "MvjfblHqgLby"
      },
      "execution_count": 4,
      "outputs": []
    },
    {
      "cell_type": "code",
      "source": [
        "def deltaRule(function, data, level = 1, N = 2, nabla = 0.1):\n",
        "  wi = [[randomNumber() for i in range(N)] for j in range(N)]         #синаптические веса\n",
        "  si = [0] * N\n",
        "  yi = [0] * N\n",
        "  epsi = [0] * N\n",
        "\n",
        "  level_i = 0\n",
        "  k = 0\n",
        "  while(level_i < level): #цикл по слоям\n",
        "    print(\"\\tЭпоха №\" + str(level_i + 1))\n",
        "    while(k < len(data)): #цикл по строкам таблицы с данными\n",
        "      eps = 0\n",
        "      print(\"Матрица весов для \" + str(k + 1) + \"-й итерации:\")\n",
        "      print(pd.DataFrame(wi))\n",
        "      print(\"\\nДля X = ( \" + str(data[data.columns[0]][k]) + \", \" + str(data[data.columns[1]][k]) + ' )')\n",
        "\n",
        "      for i in range(N):\n",
        "        for j in range(N):\n",
        "          si[i] += data[data.columns[j]][k] * wi[j][i]\n",
        "\n",
        "        yi[i] = function(si[i])\n",
        "        epsi[i] = data[data.columns[N + i]][k] - yi[i]\n",
        "        eps += epsi[i]**2\n",
        "\n",
        "      rez_i = pd.DataFrame([si, yi, epsi], index=['S', 'Y расч.', 'EPS'], columns=['neuron ' + str(i+1) for i in range(N)])\n",
        "      print(rez_i)\n",
        "      print(\"\\nСКО: \" + str(eps) + \"\\n\\n\")\n",
        "\n",
        "      #вычисление весов для следующей итерации:\n",
        "      for i in range(N):\n",
        "        for j in range(N):\n",
        "          wi[j][i] = wi[j][i] - nabla * epsi[i] * data[data.columns[j]][k]\n",
        "\n",
        "      k += 1\n",
        "    level_i += 1\n",
        "\n",
        "\n",
        "  #return 0"
      ],
      "metadata": {
        "id": "k9-LYfxGhws9"
      },
      "execution_count": 16,
      "outputs": []
    },
    {
      "cell_type": "code",
      "source": [
        "table = pd.DataFrame(it.product([0,1], repeat=countX), columns=['X' + str(i + 1) for i in range(countX)])\n",
        "table['Y1 = equivalence (~)'] = [equiv(table[table.columns[0]][i], table[table.columns[1]][i]) for i in range(2**neurons)]\n",
        "table['Y2 = conjunction (^)'] = [(table[table.columns[0]][i] and table[table.columns[1]][i]) for i in range(2**neurons)]\n",
        "\n",
        "deltaRule(hyperbolicTangentFunction, table, layer, neurons, learningRate)\n",
        "#deltaRule(sigmoidFunction, table, layer, neurons, learningRate)\n",
        "#deltaRule(thresholdFunction, table, layer, neurons, learningRate)"
      ],
      "metadata": {
        "id": "gnp548Y2o4P5",
        "outputId": "9b643760-7577-42fc-dbc1-659ccdabef3a",
        "colab": {
          "base_uri": "https://localhost:8080/"
        }
      },
      "execution_count": 17,
      "outputs": [
        {
          "output_type": "stream",
          "name": "stdout",
          "text": [
            "\tЭпоха №1\n",
            "Матрица весов для 1-й итерации:\n",
            "          0         1\n",
            "0  0.468062  0.041372\n",
            "1  0.894114  0.298415\n",
            "\n",
            "Для X = ( 0, 0 )\n",
            "         neuron 1  neuron 2\n",
            "S             0.0       0.0\n",
            "Y расч.       0.0       0.0\n",
            "EPS           1.0       0.0\n",
            "\n",
            "СКО: 1.0\n",
            "\n",
            "\n",
            "Матрица весов для 2-й итерации:\n",
            "          0         1\n",
            "0  0.468062  0.041372\n",
            "1  0.894114  0.298415\n",
            "\n",
            "Для X = ( 0, 1 )\n",
            "         neuron 1  neuron 2\n",
            "S        0.894114  0.298415\n",
            "Y расч.  0.419477  0.148110\n",
            "EPS     -0.419477 -0.148110\n",
            "\n",
            "СКО: 0.1978975663051355\n",
            "\n",
            "\n",
            "Матрица весов для 3-й итерации:\n",
            "          0         1\n",
            "0  0.468062  0.041372\n",
            "1  1.145801  0.387281\n",
            "\n",
            "Для X = ( 1, 0 )\n",
            "         neuron 1  neuron 2\n",
            "S        1.362176  0.339787\n",
            "Y расч.  0.592226  0.168278\n",
            "EPS     -0.592226 -0.168278\n",
            "\n",
            "СКО: 0.37904943523971674\n",
            "\n",
            "\n",
            "Матрица весов для 4-й итерации:\n",
            "          0         1\n",
            "0  0.823398  0.142338\n",
            "1  1.145801  0.387281\n",
            "\n",
            "Для X = ( 1, 1 )\n",
            "         neuron 1  neuron 2\n",
            "S        3.331375  0.869407\n",
            "Y расч.  0.930979  0.409244\n",
            "EPS      0.069021  0.590756\n",
            "\n",
            "СКО: 0.3537560529389204\n",
            "\n",
            "\n"
          ]
        }
      ]
    },
    {
      "cell_type": "code",
      "source": [
        "#1-Количество входов и выходов могут быть различны\n",
        "#2-Реализовать расчёт промежуточных слоёв"
      ],
      "metadata": {
        "id": "V8r9bKP9vnfe"
      },
      "execution_count": null,
      "outputs": []
    }
  ]
}