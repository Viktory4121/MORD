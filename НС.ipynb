{
  "nbformat": 4,
  "nbformat_minor": 0,
  "metadata": {
    "colab": {
      "provenance": [],
      "authorship_tag": "ABX9TyM6GejyWyDawA59x+C/Ur9G",
      "include_colab_link": true
    },
    "kernelspec": {
      "name": "python3",
      "display_name": "Python 3"
    },
    "language_info": {
      "name": "python"
    }
  },
  "cells": [
    {
      "cell_type": "markdown",
      "metadata": {
        "id": "view-in-github",
        "colab_type": "text"
      },
      "source": [
        "<a href=\"https://colab.research.google.com/github/Viktory4121/MORD/blob/main/%D0%9D%D0%A1.ipynb\" target=\"_parent\"><img src=\"https://colab.research.google.com/assets/colab-badge.svg\" alt=\"Open In Colab\"/></a>"
      ]
    },
    {
      "cell_type": "markdown",
      "source": [
        "#Нейронные сети\n",
        "####Вариант 5:\n",
        "Просчитать одну итерацию цикла обучения по Δ-правилу однослойной бинарной\n",
        "неоднородной нейронной сети, состоящей из 2 нейронов и имеющей функции активации: гиперболический тангенс ($k=2$) и пороговую функцию ($Т=0.5$). В качестве обучающей выборки использовать таблицу истинности для операций эквивалентности и конъюнкции (не использовать первую строчку таблицы). Синаптические веса задать случайным образом."
      ],
      "metadata": {
        "id": "fbOsAg_fgEgM"
      }
    },
    {
      "cell_type": "code",
      "execution_count": null,
      "metadata": {
        "id": "AwwTm7IZfs_x"
      },
      "outputs": [],
      "source": [
        "import numpy as np\n",
        "import pandas as pd\n",
        "import random\n",
        "import copy\n",
        "import math\n",
        "from prettytable import PrettyTable\n",
        "import itertools as it"
      ]
    },
    {
      "cell_type": "code",
      "source": [
        "#Коэффициент обучения (точность) [0;1]\n",
        "learningRate = 0.0001\n",
        "\n",
        "#Количество промежуточных слоёв\n",
        "neurons = 1\n",
        "\n",
        "#функция активации\n",
        "def activationFunction(S, k = 2):\n",
        "  return 1.0 / (1 + math.exp(- S * k))\n",
        "#Пороговая функция\n",
        "def thresholdFunction(S, T = 0.5):\n",
        "  return 1 if S >= T else 0"
      ],
      "metadata": {
        "id": "MvjfblHqgLby"
      },
      "execution_count": null,
      "outputs": []
    },
    {
      "cell_type": "code",
      "source": [
        "def deltaRule(N, eps):\n",
        "\n",
        "  return 0"
      ],
      "metadata": {
        "id": "k9-LYfxGhws9"
      },
      "execution_count": null,
      "outputs": []
    },
    {
      "cell_type": "code",
      "source": [],
      "metadata": {
        "id": "gnp548Y2o4P5"
      },
      "execution_count": null,
      "outputs": []
    }
  ]
}