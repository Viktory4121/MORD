{
  "nbformat": 4,
  "nbformat_minor": 0,
  "metadata": {
    "colab": {
      "provenance": [],
      "authorship_tag": "ABX9TyPTIgkJoUpGfSAzEj+I0F6i",
      "include_colab_link": true
    },
    "kernelspec": {
      "name": "python3",
      "display_name": "Python 3"
    },
    "language_info": {
      "name": "python"
    }
  },
  "cells": [
    {
      "cell_type": "markdown",
      "metadata": {
        "id": "view-in-github",
        "colab_type": "text"
      },
      "source": [
        "<a href=\"https://colab.research.google.com/github/Viktory4121/MORD/blob/main/%D0%9D%D0%A1%5B2%5D.ipynb\" target=\"_parent\"><img src=\"https://colab.research.google.com/assets/colab-badge.svg\" alt=\"Open In Colab\"/></a>"
      ]
    },
    {
      "cell_type": "markdown",
      "source": [
        "#Нейронные сети [2]\n",
        "####Вариант 5:\n",
        "Просчитать одну итерацию цикла обучения методом обратного распространения ошибки многослойной бинарной неоднородной нейронной сети, состоящей из 2 слоёв, причем в первом слое находится 2 нейрона и используется сигмоидальная функция активации (k=0,9), а во втором – 1, пороговая (T=0,7). В качестве обучающей выборки использовать таблицу истинности для операции «исключающее или» (не использовать первую строчку таблицы). Синаптические веса задать случайным образом."
      ],
      "metadata": {
        "id": "fbOsAg_fgEgM"
      }
    },
    {
      "cell_type": "code",
      "execution_count": 2,
      "metadata": {
        "id": "AwwTm7IZfs_x"
      },
      "outputs": [],
      "source": [
        "import numpy as np\n",
        "import pandas as pd\n",
        "import random\n",
        "import copy\n",
        "import math\n",
        "import itertools as it"
      ]
    },
    {
      "cell_type": "code",
      "source": [
        "#функции активации\n",
        "#гиперболический тангенс:\n",
        "def hyperbolicTangentFunction(S, k = 0.9):\n",
        "  return math.tanh(S / k)\n",
        "#сигмоидная функция:\n",
        "def sigmoidFunction(S, k = 0.9):\n",
        "  return 1.0 / (1 + math.exp(- S * k))\n",
        "#Пороговая функция:\n",
        "def thresholdFunction(S, T = 0.7):\n",
        "  return 1 if S >= T else 0\n",
        "\n",
        "#=================================================================\n",
        "def randomVector(size = 2):\n",
        "  return [random.uniform(0, 1) for i in range(size)]\n",
        "\n",
        "def randomNumber():\n",
        "  return random.uniform(0, 1)\n",
        "\n",
        "def equiv(a,b): # эквивалентность ~\n",
        "  rez = 0\n",
        "  if((a == 1 and b == 1) or (a == 0 and b == 0)): rez = 1\n",
        "  return rez\n",
        "\n",
        "#=================================================================\n",
        "#функции для формирования таблицы данных\n",
        "def x1(v):\n",
        "  return math.sin(math.log(abs(v[0])) / v[2])\n",
        "\n",
        "def x2(v):\n",
        "  return math.cos(v[1]**3)\n",
        "\n",
        "def x3(v):\n",
        "  return math.sin(math.tan(v[0] / v[1]) - 3**(v[2]))\n",
        "\n",
        "#def y1(x):\n",
        "  #return (x[0] / x[1]) * math.sqrt(abs(x[0]))\n",
        "\n",
        "#def y2(x):\n",
        "  #return math.sqrt(abs(math.sin(x[2])))\n",
        "\n",
        "def y3(x):\n",
        "  return x[2] * x[0] / (x[1] + 0.1)\n",
        "\n",
        "#=================================================================\n",
        "#Генерация случайного вектора из 3-х элементов в диапазоне от -3 до 3\n",
        "def generationRandomVector(elem = 3, start = -10, end = 10):\n",
        "  vector = []\n",
        "  for i in range(elem):\n",
        "    vector.append(random.uniform(start, end))\n",
        "  return vector\n",
        "\n",
        "#=================================================================\n",
        "#создание столбца таблицы\n",
        "def createVariants(function, elem = 100):\n",
        "  vector = []\n",
        "  for i in range(elem):\n",
        "    vector.append(function(generationRandomVector()))\n",
        "  return vector\n",
        "\n",
        "#подставление x,v в выходные функции\n",
        "def addVariants(function, x, elem = 100):\n",
        "  vector = []\n",
        "  for i in range(elem):\n",
        "    vector.append(function(x[i]))\n",
        "  return vector"
      ],
      "metadata": {
        "id": "MvjfblHqgLby"
      },
      "execution_count": 4,
      "outputs": []
    },
    {
      "cell_type": "code",
      "source": [
        "#Коэффициент обучения [0;1]\n",
        "learningRate = 0.3\n",
        "#Количество эпох\n",
        "epochs = 3\n",
        "#количество слоёв\n",
        "layer = 10\n",
        "#количество входов/выходов соответственно\n",
        "countX = 3\n",
        "countY = 3\n",
        "countRows = 10\n",
        "#количество нейронов на каждом слое\n",
        "neurons = [3, 2, countY]\n",
        "\n",
        "networkCharact = [epochs, layer, neurons, learningRate]\n",
        "inpOutCounts = [countX, countY]\n",
        "\n",
        "#перечень функций:\n",
        "inputFunctions = [x1, x2, x3]\n",
        "outputFunctions = [y3]\n",
        "\n",
        "#=================================================================\n",
        "data = []\n",
        "for i in range(len(inputFunctions)):\n",
        "  data.append(createVariants(inputFunctions[i], countRows))\n",
        "for i in range(len(outputFunctions)):\n",
        "  data.append(addVariants(outputFunctions[i], np.array(data[0:3]).T, countRows))\n",
        "\n",
        "data_df = pd.DataFrame(np.array(data).T, columns=['x1', 'x2', 'x3', 'y1'])"
      ],
      "metadata": {
        "id": "JNsxGDUXe6tb"
      },
      "execution_count": 9,
      "outputs": []
    },
    {
      "cell_type": "code",
      "source": [
        "#data_df"
      ],
      "metadata": {
        "id": "iaB_msyyztDa"
      },
      "execution_count": 8,
      "outputs": []
    },
    {
      "cell_type": "code",
      "source": [
        "#charactNet = [кол-во эпох, кол-во слоёв, кол-во нейронов, коэф. обучения]\n",
        "#sizeSystem = [кол-во входов, кол-во выходов]\n",
        "\n",
        "def deltaRule(function, data, charactNet, sizeSystem):\n",
        "  countEpochs = charactNet[0]\n",
        "  countLayers = charactNet[1]\n",
        "  countNeurons = charactNet[2]\n",
        "  nabla = charactNet[3]\n",
        "\n",
        "  indexOrder = [i for i in range(0, len(data))] #список всех индексов строк таблицы данных\n",
        "\n",
        "  #si = [0] * sizeSystem[1]\n",
        "  yi = [0] * sizeSystem[1]\n",
        "  epsi = [0] * sizeSystem[1]\n",
        "  level_i = 0\n",
        "  epoch_i = 0\n",
        "  k = 0\n",
        "\n",
        "  #временная инициализация весов (только для однослойной сети!)\n",
        "  wi = [[randomNumber() for i in range(sizeSystem[0])] for j in range(countNeurons)] #синаптические веса\n",
        "\n",
        "  while(epoch_i < countEpochs): #цикл по ЭПОХАМ!!!!!!!\n",
        "\n",
        "\n",
        "\n",
        "    print(\"------------------------------------------------------------------------------------------------------------------\")\n",
        "    print(\"\\tЭпоха №\" + str(epoch_i + 1))\n",
        "    random.shuffle(indexOrder)\n",
        "\n",
        "    while(level_i < countLayers):\n",
        "      neurons_i = countNeurons[level_i]\n",
        "      #wi = [[randomNumber() for i in range(sizeSystem[0])] for j in range(neurons_i)] #синаптические веса\n",
        "\n",
        "\n",
        "\n",
        "      while(k < len(data)): #цикл по строкам таблицы с данными\n",
        "\n",
        "        print('================================================')\n",
        "        print(\"Матрица весов для \" + str(k + 1) + \"-й итерации:\")\n",
        "        print(pd.DataFrame(wi))\n",
        "        print(\"\\nДля X = \" + str(np.array(data.iloc[indexOrder[k], 0:sizeSystem[0]]).T) + '\\n')\n",
        "\n",
        "        eps = 0\n",
        "        si = [0] * sizeSystem[1]\n",
        "\n",
        "        for i in range(neurons_i): #по нейронам\n",
        "          for j in range(sizeSystem[0]): #по входам\n",
        "            si[i] += data[data.columns[j]][indexOrder[k]] * wi[i][j]\n",
        "\n",
        "          #сделать проверку на сравнение количества нейронов и выходов для последнего слоя!!!!!!!!!!!!!!!!!!!!!!!!!!!!!!!!!!!!!!!!!!!!!!!!!!!!!!!!!!!!!!!!!!!!\n",
        "          yi[i] = function(si[i])\n",
        "          epsi[i] = data.iloc[indexOrder[k], sizeSystem[0] + i] - yi[i]\n",
        "          eps += (epsi[i]**2) / neurons_i\n",
        "\n",
        "        rez_i = pd.DataFrame([si, yi, data.iloc[k, sizeSystem[0]:], epsi], index=['S', 'Y расч.', 'Y теор.', 'EPS'],\n",
        "                           columns=['neuron ' + str(i+1) for i in range(sizeSystem[1])])\n",
        "\n",
        "        print(rez_i)\n",
        "        print(\"\\nСКО: \" + str(eps) + \"\\n\\n\")\n",
        "\n",
        "        #вычисление весов для следующей итерации:\n",
        "        for i in range(neurons_i):\n",
        "          for j in range(sizeSystem[0]):\n",
        "            wi[i][j] = wi[i][j] + nabla * epsi[i] * data[data.columns[j]][indexOrder[k]]\n",
        "\n",
        "        k += 1\n",
        "\n",
        "      level_i += 1\n",
        "\n",
        "    epoch_i += 1\n",
        "    k = 0\n",
        "\n",
        "  #"
      ],
      "metadata": {
        "id": "k9-LYfxGhws9"
      },
      "execution_count": 10,
      "outputs": []
    },
    {
      "cell_type": "code",
      "source": [
        "#table = pd.DataFrame(it.product([0,1], repeat=countX), columns=['X' + str(i + 1) for i in range(countX)])\n",
        "#table['Y1 = equivalence (~)'] = [equiv(table[table.columns[0]][i], table[table.columns[1]][i]) for i in range(2**neurons)]\n",
        "#table['Y2 = conjunction (^)'] = [(table[table.columns[0]][i] and table[table.columns[1]][i]) for i in range(2**neurons)]\n",
        "\n",
        "#deltaRule(hyperbolicTangentFunction, table, networkCharact, inpOutCounts)\n",
        "#deltaRule(sigmoidFunction, table, layer, neurons, learningRate)\n",
        "#deltaRule(thresholdFunction, table, layer, neurons, learningRate)\n",
        "\n",
        "deltaRule(hyperbolicTangentFunction, data_df, networkCharact, inpOutCounts)"
      ],
      "metadata": {
        "id": "gnp548Y2o4P5",
        "outputId": "9183fc79-8f91-422b-f8f2-b1c28c09c74f",
        "colab": {
          "base_uri": "https://localhost:8080/",
          "height": 332
        }
      },
      "execution_count": 11,
      "outputs": [
        {
          "output_type": "error",
          "ename": "TypeError",
          "evalue": "'list' object cannot be interpreted as an integer",
          "traceback": [
            "\u001b[0;31m---------------------------------------------------------------------------\u001b[0m",
            "\u001b[0;31mTypeError\u001b[0m                                 Traceback (most recent call last)",
            "\u001b[0;32m<ipython-input-11-1b07a22db05a>\u001b[0m in \u001b[0;36m<cell line: 9>\u001b[0;34m()\u001b[0m\n\u001b[1;32m      7\u001b[0m \u001b[0;31m#deltaRule(thresholdFunction, table, layer, neurons, learningRate)\u001b[0m\u001b[0;34m\u001b[0m\u001b[0;34m\u001b[0m\u001b[0m\n\u001b[1;32m      8\u001b[0m \u001b[0;34m\u001b[0m\u001b[0m\n\u001b[0;32m----> 9\u001b[0;31m \u001b[0mdeltaRule\u001b[0m\u001b[0;34m(\u001b[0m\u001b[0mhyperbolicTangentFunction\u001b[0m\u001b[0;34m,\u001b[0m \u001b[0mdata_df\u001b[0m\u001b[0;34m,\u001b[0m \u001b[0mnetworkCharact\u001b[0m\u001b[0;34m,\u001b[0m \u001b[0minpOutCounts\u001b[0m\u001b[0;34m)\u001b[0m\u001b[0;34m\u001b[0m\u001b[0;34m\u001b[0m\u001b[0m\n\u001b[0m",
            "\u001b[0;32m<ipython-input-10-94368872f43a>\u001b[0m in \u001b[0;36mdeltaRule\u001b[0;34m(function, data, charactNet, sizeSystem)\u001b[0m\n\u001b[1;32m     18\u001b[0m \u001b[0;34m\u001b[0m\u001b[0m\n\u001b[1;32m     19\u001b[0m   \u001b[0;31m#временная инициализация весов (только для однослойной сети!)\u001b[0m\u001b[0;34m\u001b[0m\u001b[0;34m\u001b[0m\u001b[0m\n\u001b[0;32m---> 20\u001b[0;31m   \u001b[0mwi\u001b[0m \u001b[0;34m=\u001b[0m \u001b[0;34m[\u001b[0m\u001b[0;34m[\u001b[0m\u001b[0mrandomNumber\u001b[0m\u001b[0;34m(\u001b[0m\u001b[0;34m)\u001b[0m \u001b[0;32mfor\u001b[0m \u001b[0mi\u001b[0m \u001b[0;32min\u001b[0m \u001b[0mrange\u001b[0m\u001b[0;34m(\u001b[0m\u001b[0msizeSystem\u001b[0m\u001b[0;34m[\u001b[0m\u001b[0;36m0\u001b[0m\u001b[0;34m]\u001b[0m\u001b[0;34m)\u001b[0m\u001b[0;34m]\u001b[0m \u001b[0;32mfor\u001b[0m \u001b[0mj\u001b[0m \u001b[0;32min\u001b[0m \u001b[0mrange\u001b[0m\u001b[0;34m(\u001b[0m\u001b[0mcountNeurons\u001b[0m\u001b[0;34m)\u001b[0m\u001b[0;34m]\u001b[0m \u001b[0;31m#синаптические веса\u001b[0m\u001b[0;34m\u001b[0m\u001b[0;34m\u001b[0m\u001b[0m\n\u001b[0m\u001b[1;32m     21\u001b[0m \u001b[0;34m\u001b[0m\u001b[0m\n\u001b[1;32m     22\u001b[0m   \u001b[0;32mwhile\u001b[0m\u001b[0;34m(\u001b[0m\u001b[0mepoch_i\u001b[0m \u001b[0;34m<\u001b[0m \u001b[0mcountEpochs\u001b[0m\u001b[0;34m)\u001b[0m\u001b[0;34m:\u001b[0m \u001b[0;31m#цикл по ЭПОХАМ!!!!!!!\u001b[0m\u001b[0;34m\u001b[0m\u001b[0;34m\u001b[0m\u001b[0m\n",
            "\u001b[0;31mTypeError\u001b[0m: 'list' object cannot be interpreted as an integer"
          ]
        }
      ]
    },
    {
      "cell_type": "code",
      "source": [
        "#1-Количество входов и выходов могут быть различны +\n",
        "#2-Реализовать расчёт промежуточных слоёв"
      ],
      "metadata": {
        "id": "V8r9bKP9vnfe"
      },
      "execution_count": null,
      "outputs": []
    },
    {
      "cell_type": "code",
      "source": [
        "#Характеристики многослойной сети:\n",
        "#1- вектор из кол-ва нейронов в каждом слое (в каждом слое м/б разное кол-во нейронов)\n",
        "#2- кол-во выходов = кол-ву нейронов в крайнем слое\n",
        "#3- входов может быть сколько угодно +\n",
        "#4- в цикле: wij: i-номер нейрона, j-номер входа +\n",
        "#5- размер s, eps равен количеству выходов +"
      ],
      "metadata": {
        "id": "aCeNLCU8sWsx"
      },
      "execution_count": null,
      "outputs": []
    },
    {
      "cell_type": "code",
      "source": [
        "#1-Добавить условие для последнего слоя, где сравнивается кол-во нейронов и кол-во выходов\n",
        "#2-"
      ],
      "metadata": {
        "id": "-3CyQQnv6p89"
      },
      "execution_count": null,
      "outputs": []
    }
  ]
}