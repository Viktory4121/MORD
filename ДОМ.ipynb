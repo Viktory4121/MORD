{
  "nbformat": 4,
  "nbformat_minor": 0,
  "metadata": {
    "colab": {
      "provenance": [],
      "authorship_tag": "ABX9TyOWHwqh/wp4dtkcM7dv+4vr",
      "include_colab_link": true
    },
    "kernelspec": {
      "name": "python3",
      "display_name": "Python 3"
    },
    "language_info": {
      "name": "python"
    }
  },
  "cells": [
    {
      "cell_type": "markdown",
      "metadata": {
        "id": "view-in-github",
        "colab_type": "text"
      },
      "source": [
        "<a href=\"https://colab.research.google.com/github/Viktory4121/MORD/blob/main/%D0%94%D0%9E%D0%9C.ipynb\" target=\"_parent\"><img src=\"https://colab.research.google.com/assets/colab-badge.svg\" alt=\"Open In Colab\"/></a>"
      ]
    },
    {
      "cell_type": "markdown",
      "source": [
        "#Динамические окрестностные модели (ДОМ)\n",
        "####Вариант 5"
      ],
      "metadata": {
        "id": "dmu2Y2oUYPj3"
      }
    },
    {
      "cell_type": "code",
      "execution_count": 1,
      "metadata": {
        "id": "NcnGV7FTYBuo"
      },
      "outputs": [],
      "source": [
        "import numpy as np\n",
        "import pandas as pd\n",
        "import random\n",
        "import copy\n",
        "import math\n",
        "from prettytable import PrettyTable\n",
        "import itertools as it"
      ]
    },
    {
      "cell_type": "code",
      "source": [
        "#A={a1, a2, a3}\n",
        "\n",
        "#какие дуги входят в позицию:\n",
        "#Ox[a1]={a1}\n",
        "#Ox[a2]={}\n",
        "#Ox[a3]={a1, a2}\n",
        "\n",
        "#в какие позиции входят v\n",
        "#Ov[a1]={a1}\n",
        "#Ov[a2]={a2}\n",
        "#Ov[a3]={a3}"
      ],
      "metadata": {
        "id": "nhvJ_j6hYO-A"
      },
      "execution_count": null,
      "outputs": []
    },
    {
      "cell_type": "code",
      "source": [
        "#количества состояний/входов/выходов\n",
        "count = [3, 3, 3]\n",
        "Sx = np.array([[1, 0, 1], [0, 0, 1], [0, 0, 0]])\n",
        "Sv = np.array([[1, 0, 0], [0, 1, 0], [0, 0, 1]])\n",
        "\n",
        "print(\"Матрица смежности:\")\n",
        "print(\"Sx = \")\n",
        "print(Sx)\n",
        "print(\"Sv = \")\n",
        "print(Sv)"
      ],
      "metadata": {
        "id": "cFmVyRWQfRD4",
        "outputId": "34e78240-3b2f-4c8d-e453-4f903c11b1ee",
        "colab": {
          "base_uri": "https://localhost:8080/"
        }
      },
      "execution_count": 2,
      "outputs": [
        {
          "output_type": "stream",
          "name": "stdout",
          "text": [
            "Матрица смежности:\n",
            "Sx = \n",
            "[[1 0 1]\n",
            " [0 0 1]\n",
            " [0 0 0]]\n",
            "Sv = \n",
            "[[1 0 0]\n",
            " [0 1 0]\n",
            " [0 0 1]]\n"
          ]
        }
      ]
    },
    {
      "cell_type": "code",
      "source": [
        "def x1(x, v):\n",
        "  return math.sin(x[0]**2 + math.log(math.fabs(v[1] + v[0])) / x[2])\n",
        "\n",
        "def x2(x, v):\n",
        "  return math.cos(v[0] * x[2] - (x[1] / x[2])**3)\n",
        "\n",
        "def x3(x, v):\n",
        "  return math.sin(math.tan(x[2] * v[2]) - 3**(v[0]))\n",
        "\n",
        "def v1(x, v):\n",
        "  return (x[1] * v[0] * v[1] + math.tan(x[2])**2)\n",
        "\n",
        "def v2(x, v):\n",
        "  return (0.2 * v[0] + 33.0 * v[1] + v[2])\n",
        "\n",
        "def v3(x, v):\n",
        "  return (math.exp(x[0]) + .45 * math.log2(abs(x[1] * x[2])))\n",
        "\n",
        "def y1(x, v):\n",
        "  return x[0] * v[0] * math.sqrt(abs(x[0] / x[1]))\n",
        "\n",
        "def y2(x, v):\n",
        "  return math.sqrt(abs(math.sin(v[2])))\n",
        "\n",
        "def y3(x, v):\n",
        "  return v[2] * v[0] + 4"
      ],
      "metadata": {
        "id": "jbNviqc1hyfd"
      },
      "execution_count": 3,
      "outputs": []
    },
    {
      "cell_type": "code",
      "source": [
        "#Метод псевдообращения Бена-Израиля\n",
        "def BenIsrael(A, eps):\n",
        "  I = np.diag(np.diag(np.ones([len(A),len(A)])))\n",
        "  buf = 1\n",
        "  i = 1\n",
        "\n",
        "  if(np.linalg.norm(A, ord='fro') != 0): #если не нулевая норма\n",
        "    gamma = 1.6 / (np.linalg.norm(A, ord='fro')**2)\n",
        "    A1 = gamma * (A.T)\n",
        "    i += 1\n",
        "    A2 = A1.dot(2*I - A.dot(A1))\n",
        "    E = np.linalg.norm(A2 - A1, ord=np.inf) / np.linalg.norm(A1, ord=np.inf)\n",
        "  else: #если нулевая норма\n",
        "    A1 = np.zeros((len(A[0]), len(A)))\n",
        "    buf = 0\n",
        "\n",
        "  while(E >= eps and buf):\n",
        "    A1 = A2.copy()\n",
        "    A2 = A1.dot(2*I - A.dot(A1))\n",
        "    E = np.linalg.norm(A2 - A1, ord=np.inf) / np.linalg.norm(A1, ord=np.inf)\n",
        "    i += 1\n",
        "\n",
        "  return A1\n",
        "\n",
        "#=================================================================\n",
        "#Генерация случайного вектора из 3-х элементов в диапазоне от -3 до 3\n",
        "def generationRandomVector(elem = 3, start = -3, end = 3):\n",
        "  vector = []\n",
        "  for i in range(elem):\n",
        "    vector.append(random.uniform(start, end))\n",
        "  return vector\n",
        "\n",
        "#=================================================================\n",
        "#создание столбца таблицы\n",
        "def createVariants(function, x, v, typeFunc = 1, elem = 100):\n",
        "  vector = []\n",
        "\n",
        "  if(typeFunc == 0):\n",
        "    for i in range(elem):\n",
        "      vector.append(function(generationRandomVector(), generationRandomVector()))\n",
        "  else:\n",
        "    for i in range(elem):\n",
        "      vector.append(function(x[i], v[i]))\n",
        "\n",
        "  return vector\n",
        "\n",
        "#=================================================================\n",
        "#count(x, v, y)\n",
        "def createTableDOM(functions, count, step, elem = 100):\n",
        "  table = []\n",
        "  vector = []\n",
        "  columns = createColumns(step, count)\n",
        "  if(step == 0):\n",
        "    for i in range(len(functions) - count[2]):\n",
        "      table.append(createVariants(functions[0:(sum(count[0:2]))], [], [], 0)) #функции xi, vi\n",
        "    for i in range(len(count[2])):\n",
        "\n",
        "\n",
        "\n",
        "  #for i in range(len(functions)):\n",
        "    #table.append(createVariants(functions[i]))\n",
        "\n",
        "  table = pd.DataFrame(np.matrix(table).T, columns = columns)\n",
        "  return table\n",
        "\n",
        "def createColumns(step, count):\n",
        "  columns = []\n",
        "  for i in range(count[0]):\n",
        "    columns.append(\"x\" + str(i + 1) + \"(\" + str(step) + \")\")\n",
        "  for i in range(count[1]):\n",
        "    columns.append(\"v\" + str(i + 1) + \"(\" + str(step) + \")\")\n",
        "  for i in range(count[2]):\n",
        "    columns.append(\"y\" + str(i + 1) + \"(\" + str(step) + \")\")\n",
        "  return columns"
      ],
      "metadata": {
        "id": "C43OAF4LmVMy"
      },
      "execution_count": null,
      "outputs": []
    },
    {
      "cell_type": "code",
      "source": [
        "#functions = [x1, x2, x3, v1, v2, v3, y1, y2, y3]\n",
        "functions = [x1, x2, x3, v1, v2, v3]\n",
        "#createDOM(functions, count, 0)\n",
        "functions[0:(sum(count[0:2]))]"
      ],
      "metadata": {
        "id": "nH_Y62d2Zh0r",
        "outputId": "ac3316f2-0ca4-411f-d926-0498f446d62c",
        "colab": {
          "base_uri": "https://localhost:8080/"
        }
      },
      "execution_count": 6,
      "outputs": [
        {
          "output_type": "execute_result",
          "data": {
            "text/plain": [
              "[<function __main__.x1(x, v)>,\n",
              " <function __main__.x2(x, v)>,\n",
              " <function __main__.x3(x, v)>,\n",
              " <function __main__.v1(x, v)>,\n",
              " <function __main__.v2(x, v)>,\n",
              " <function __main__.v3(x, v)>]"
            ]
          },
          "metadata": {},
          "execution_count": 6
        }
      ]
    },
    {
      "cell_type": "code",
      "source": [],
      "metadata": {
        "id": "ue9LZRX3jYdQ"
      },
      "execution_count": null,
      "outputs": []
    }
  ]
}