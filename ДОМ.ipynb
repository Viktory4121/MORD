{
  "nbformat": 4,
  "nbformat_minor": 0,
  "metadata": {
    "colab": {
      "provenance": [],
      "authorship_tag": "ABX9TyN86gkFBkQwebdtF96iBQUj",
      "include_colab_link": true
    },
    "kernelspec": {
      "name": "python3",
      "display_name": "Python 3"
    },
    "language_info": {
      "name": "python"
    }
  },
  "cells": [
    {
      "cell_type": "markdown",
      "metadata": {
        "id": "view-in-github",
        "colab_type": "text"
      },
      "source": [
        "<a href=\"https://colab.research.google.com/github/Viktory4121/MORD/blob/main/%D0%94%D0%9E%D0%9C.ipynb\" target=\"_parent\"><img src=\"https://colab.research.google.com/assets/colab-badge.svg\" alt=\"Open In Colab\"/></a>"
      ]
    },
    {
      "cell_type": "markdown",
      "source": [
        "#Динамические окрестностные модели (ДОМ)\n",
        "####Вариант 5"
      ],
      "metadata": {
        "id": "dmu2Y2oUYPj3"
      }
    },
    {
      "cell_type": "code",
      "execution_count": 7,
      "metadata": {
        "id": "NcnGV7FTYBuo"
      },
      "outputs": [],
      "source": [
        "import numpy as np\n",
        "import pandas as pd\n",
        "import random\n",
        "import copy\n",
        "import math\n",
        "from prettytable import PrettyTable\n",
        "import itertools as it"
      ]
    },
    {
      "cell_type": "code",
      "source": [
        "#A={a1, a2, a3}\n",
        "#какие дуги входят в позицию:\n",
        "#Ox[a1]={a1}\n",
        "#Ox[a2]={}\n",
        "#Ox[a3]={a1, a2}\n",
        "#в какие позиции входят v\n",
        "#Ov[a1]={a1}\n",
        "#Ov[a2]={a2}\n",
        "#Ov[a3]={a3}"
      ],
      "metadata": {
        "id": "nhvJ_j6hYO-A"
      },
      "execution_count": null,
      "outputs": []
    },
    {
      "cell_type": "code",
      "source": [
        "Sx = np.array([[1, 0, 1], [0, 0, 1], [0, 0, 0]])\n",
        "Sv = np.array([[1, 0, 0], [0, 1, 0], [0, 0, 1]])\n",
        "\n",
        "print(\"Матрица смежности:\")\n",
        "print(\"Sx = \")\n",
        "print(Sx)\n",
        "print(\"Sv = \")\n",
        "print(Sv)"
      ],
      "metadata": {
        "id": "cFmVyRWQfRD4",
        "outputId": "9accfc62-9fba-4e50-ec48-b3e7bdca5d2d",
        "colab": {
          "base_uri": "https://localhost:8080/"
        }
      },
      "execution_count": 6,
      "outputs": [
        {
          "output_type": "stream",
          "name": "stdout",
          "text": [
            "Матрица смежности:\n",
            "Sx = \n",
            "[[1 0 1]\n",
            " [0 0 1]\n",
            " [0 0 0]]\n",
            "Sv = \n",
            "[[1 0 0]\n",
            " [0 1 0]\n",
            " [0 0 1]]\n"
          ]
        }
      ]
    },
    {
      "cell_type": "code",
      "source": [
        "def x1(x, v):\n",
        "  return math.sin(x[0]**2 + math.log(v[1] + v[0]) / x[2])\n",
        "\n",
        "def x2(x, v):\n",
        "  return math.cos(v[0] * x[2] - (x[1] / x[2])**3)\n",
        "\n",
        "def x3(x, v):\n",
        "  return math.sin(math.tan(x[2] * v[2]) - 3**(v[0]))\n",
        "\n",
        "def v1(x, v):\n",
        "  return 0\n",
        "\n",
        "def v2(x, v):\n",
        "  return 0\n",
        "\n",
        "def v3(x, v):\n",
        "  return 0"
      ],
      "metadata": {
        "id": "jbNviqc1hyfd"
      },
      "execution_count": 14,
      "outputs": []
    },
    {
      "cell_type": "code",
      "source": [
        "x = [0, -1, 3]\n",
        "v = [10, 5, -3]\n",
        "x3(x, v)"
      ],
      "metadata": {
        "id": "C43OAF4LmVMy",
        "outputId": "ba4ee6c9-248b-4220-a65f-2980e7c212ed",
        "colab": {
          "base_uri": "https://localhost:8080/"
        }
      },
      "execution_count": 15,
      "outputs": [
        {
          "output_type": "execute_result",
          "data": {
            "text/plain": [
              "0.7364668680819917"
            ]
          },
          "metadata": {},
          "execution_count": 15
        }
      ]
    }
  ]
}