{
  "nbformat": 4,
  "nbformat_minor": 0,
  "metadata": {
    "colab": {
      "provenance": [],
      "authorship_tag": "ABX9TyPBguniH3s81fSl7EEFPWKh",
      "include_colab_link": true
    },
    "kernelspec": {
      "name": "python3",
      "display_name": "Python 3"
    },
    "language_info": {
      "name": "python"
    }
  },
  "cells": [
    {
      "cell_type": "markdown",
      "metadata": {
        "id": "view-in-github",
        "colab_type": "text"
      },
      "source": [
        "<a href=\"https://colab.research.google.com/github/Viktory4121/MORD/blob/main/%D0%94%D0%9E%D0%9C.ipynb\" target=\"_parent\"><img src=\"https://colab.research.google.com/assets/colab-badge.svg\" alt=\"Open In Colab\"/></a>"
      ]
    },
    {
      "cell_type": "markdown",
      "source": [
        "#Динамические окрестностные модели (ДОМ)\n",
        "####Вариант 5"
      ],
      "metadata": {
        "id": "dmu2Y2oUYPj3"
      }
    },
    {
      "cell_type": "code",
      "execution_count": 1,
      "metadata": {
        "id": "NcnGV7FTYBuo"
      },
      "outputs": [],
      "source": [
        "import numpy as np\n",
        "import pandas as pd\n",
        "import random\n",
        "import copy\n",
        "import math\n",
        "from prettytable import PrettyTable\n",
        "import itertools as it"
      ]
    },
    {
      "cell_type": "code",
      "source": [
        "#A={a1, a2, a3}\n",
        "\n",
        "#какие дуги входят в позицию:\n",
        "#Ox[a1]={a1}\n",
        "#Ox[a2]={}\n",
        "#Ox[a3]={a1, a2}\n",
        "\n",
        "#в какие позиции входят v\n",
        "#Ov[a1]={a1}\n",
        "#Ov[a2]={a2}\n",
        "#Ov[a3]={a3}"
      ],
      "metadata": {
        "id": "nhvJ_j6hYO-A"
      },
      "execution_count": 2,
      "outputs": []
    },
    {
      "cell_type": "code",
      "source": [
        "#количества состояний/входов/выходов\n",
        "count = [3, 3, 3]\n",
        "Sx = np.array([[1, 0, 1], [0, 0, 1], [0, 0, 0]])\n",
        "Sv = np.array([[1, 0, 0], [0, 1, 0], [0, 0, 1]])\n",
        "\n",
        "print(\"Матрица смежности:\")\n",
        "print(\"Sx = \")\n",
        "print(Sx)\n",
        "print(\"Sv = \")\n",
        "print(Sv)"
      ],
      "metadata": {
        "id": "cFmVyRWQfRD4",
        "outputId": "d8c964e9-9858-42c5-afc0-0c1e39075105",
        "colab": {
          "base_uri": "https://localhost:8080/"
        }
      },
      "execution_count": 3,
      "outputs": [
        {
          "output_type": "stream",
          "name": "stdout",
          "text": [
            "Матрица смежности:\n",
            "Sx = \n",
            "[[1 0 1]\n",
            " [0 0 1]\n",
            " [0 0 0]]\n",
            "Sv = \n",
            "[[1 0 0]\n",
            " [0 1 0]\n",
            " [0 0 1]]\n"
          ]
        }
      ]
    },
    {
      "cell_type": "code",
      "source": [
        "def x1(x, v):\n",
        "  return math.sin(x[0]**2 + math.log(math.fabs(v[1] + v[0])) / x[2])\n",
        "\n",
        "def x2(x, v):\n",
        "  return math.cos(v[0] * x[2] - (x[1] / x[2])**3)\n",
        "\n",
        "def x3(x, v):\n",
        "  return math.sin(math.tan(x[2] * v[2]) - 3**(v[0]))\n",
        "\n",
        "def v1(x, v):\n",
        "  return (x[1] * v[0] * v[1] + math.tan(x[2])**2)\n",
        "\n",
        "def v2(x, v):\n",
        "  return (0.2 * v[0] + 33.0 * v[1] + v[2])\n",
        "\n",
        "def v3(x, v):\n",
        "  return (math.exp(x[0]) + .45 * math.log2(abs(x[1] * x[2])))\n",
        "\n",
        "def y1(x, v):\n",
        "  return x[0] * v[0] * math.sqrt(abs(x[0] / x[1]))\n",
        "\n",
        "def y2(x, v):\n",
        "  return math.sqrt(abs(math.sin(v[2])))\n",
        "\n",
        "def y3(x, v):\n",
        "  return v[2] * v[0] + 4\n",
        "\n",
        "functions = [x1, x2, x3, v1, v2, v3, y1, y2, y3]"
      ],
      "metadata": {
        "id": "jbNviqc1hyfd"
      },
      "execution_count": 4,
      "outputs": []
    },
    {
      "cell_type": "code",
      "source": [
        "def generationRandomVector(elem = 3, start = -3, end = 3):\n",
        "  vector = []\n",
        "  for i in range(elem):\n",
        "    vector.append(random.uniform(start, end))\n",
        "  return vector\n",
        "\n",
        "#=================================================================\n",
        "\n",
        "def createVariants(function, elem = 100):\n",
        "  vector = []\n",
        "  for i in range(elem):\n",
        "    vector.append(function(generationRandomVector(), generationRandomVector()))\n",
        "  return vector\n",
        "\n",
        "#=================================================================\n",
        "#Метод псевдообращения Бена-Израиля\n",
        "def BenIsrael(A, eps):\n",
        "  I = np.diag(np.diag(np.ones([len(A),len(A)])))\n",
        "  buf = 1\n",
        "  i = 1\n",
        "\n",
        "  if(np.linalg.norm(A, ord='fro') != 0): #если не нулевая норма\n",
        "    gamma = 1.6 / (np.linalg.norm(A, ord='fro')**2)\n",
        "    A1 = gamma * (A.T)\n",
        "    i += 1\n",
        "    A2 = A1.dot(2*I - A.dot(A1))\n",
        "    E = np.linalg.norm(A2 - A1, ord=np.inf) / np.linalg.norm(A1, ord=np.inf)\n",
        "  else: #если нулевая норма\n",
        "    A1 = np.zeros((len(A[0]), len(A)))\n",
        "    buf = 0\n",
        "\n",
        "  while(E >= eps and buf):\n",
        "    A1 = A2.copy()\n",
        "    A2 = A1.dot(2*I - A.dot(A1))\n",
        "    E = np.linalg.norm(A2 - A1, ord=np.inf) / np.linalg.norm(A1, ord=np.inf)\n",
        "    i += 1\n",
        "\n",
        "  return A1\n",
        "\n",
        "#=================================================================\n",
        "#count(x, v, y)\n",
        "def createDOM(functions, count):\n",
        "  table = []\n",
        "  columns = createColumns(0, count)\n",
        "\n",
        "  for i in range(len(functions)):\n",
        "    table.append(createVariants(functions[i]))\n",
        "\n",
        "  table = pd.DataFrame(np.matrix(table).T, columns = columns)\n",
        "  return table\n",
        "\n",
        "def createColumns(step, count):\n",
        "  columns = []\n",
        "\n",
        "  for i in range(count[0]):\n",
        "    columns.append(\"x\" + str(i + 1) + \"(\" + str(step) + \")\")\n",
        "\n",
        "  for i in range(count[1]):\n",
        "    columns.append(\"v\" + str(i + 1) + \"(\" + str(step) + \")\")\n",
        "\n",
        "  for i in range(count[2]):\n",
        "    columns.append(\"y\" + str(i + 1) + \"(\" + str(step) + \")\")\n",
        "\n",
        "  return columns"
      ],
      "metadata": {
        "id": "C43OAF4LmVMy"
      },
      "execution_count": 8,
      "outputs": []
    },
    {
      "cell_type": "code",
      "source": [
        "#createDOM(functions, count)"
      ],
      "metadata": {
        "id": "nH_Y62d2Zh0r",
        "outputId": "2a6223f1-f2ff-48d4-8683-c6ed8b691660",
        "colab": {
          "base_uri": "https://localhost:8080/"
        }
      },
      "execution_count": 10,
      "outputs": [
        {
          "output_type": "execute_result",
          "data": {
            "text/plain": [
              "['x1(1)',\n",
              " 'x2(1)',\n",
              " 'x3(1)',\n",
              " 'v1(1)',\n",
              " 'v2(1)',\n",
              " 'v3(1)',\n",
              " 'y1(1)',\n",
              " 'y2(1)',\n",
              " 'y3(1)']"
            ]
          },
          "metadata": {},
          "execution_count": 10
        }
      ]
    },
    {
      "cell_type": "code",
      "source": [],
      "metadata": {
        "id": "ue9LZRX3jYdQ"
      },
      "execution_count": null,
      "outputs": []
    }
  ]
}