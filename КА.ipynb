{
  "nbformat": 4,
  "nbformat_minor": 0,
  "metadata": {
    "colab": {
      "name": "Lab1_MM.ipynb",
      "provenance": [],
      "authorship_tag": "ABX9TyO2CIxYt9m0eTB4dIXzR6SJ",
      "include_colab_link": true
    },
    "kernelspec": {
      "name": "python3",
      "display_name": "Python 3"
    },
    "language_info": {
      "name": "python"
    }
  },
  "cells": [
    {
      "cell_type": "markdown",
      "metadata": {
        "id": "view-in-github",
        "colab_type": "text"
      },
      "source": [
        "<a href=\"https://colab.research.google.com/github/Viktory4121/MORD/blob/main/%D0%9A%D0%90.ipynb\" target=\"_parent\"><img src=\"https://colab.research.google.com/assets/colab-badge.svg\" alt=\"Open In Colab\"/></a>"
      ]
    },
    {
      "cell_type": "markdown",
      "metadata": {
        "id": "q2CVgH5USBwa"
      },
      "source": [
        "#### Лабораторная работа №1. Конечные автоматы Мили и Мура.\n",
        "Вариант 11"
      ]
    },
    {
      "cell_type": "code",
      "metadata": {
        "id": "0PVxx7gNQnVf"
      },
      "source": [
        "import numpy as np\n",
        "import pandas as pd\n",
        "import random\n",
        "import copy\n",
        "from prettytable import PrettyTable"
      ],
      "execution_count": null,
      "outputs": []
    },
    {
      "cell_type": "code",
      "metadata": {
        "id": "sAFeW8vEoO4-"
      },
      "source": [
        "#входы\n",
        "v1 = '01'\n",
        "v2 = 'АБВГ'\n",
        "#состояния\n",
        "x1 = '01'\n",
        "x2 = 'АБВГ'\n",
        "#выходы\n",
        "y1 = 'АБВГ'\n",
        "y2 = 'АБВГ'"
      ],
      "execution_count": null,
      "outputs": []
    },
    {
      "cell_type": "markdown",
      "metadata": {
        "id": "-EQXNrPvM4CP"
      },
      "source": [
        "#### Переходы для автоматов Мили и Мура."
      ]
    },
    {
      "cell_type": "code",
      "metadata": {
        "colab": {
          "base_uri": "https://localhost:8080/"
        },
        "id": "gMzTMs3vFs8b",
        "outputId": "928c78bd-9269-470c-e141-48dfe127c229"
      },
      "source": [
        "pos_inputs = []\n",
        "for i in range(len(v1)):\n",
        "  for j in range(len(v2)):\n",
        "    pos_inputs.append(v1[i] + v2[j])\n",
        "print('Возможные входы:', pos_inputs)\n",
        "\n",
        "pos_states = []\n",
        "for i in range(len(x1)):\n",
        "  for j in range(len(x2)):\n",
        "    pos_states.append(x1[i] + x2[j])\n",
        "print('Возможные состояния:', pos_states)\n",
        "\n",
        "pos_outputs = []\n",
        "for i in range(len(y1)):\n",
        "  for j in range(len(y2)):\n",
        "    pos_outputs.append(y1[i] + y2[j])\n",
        "print('Возможные выходы:', pos_outputs)"
      ],
      "execution_count": null,
      "outputs": [
        {
          "output_type": "stream",
          "name": "stdout",
          "text": [
            "Возможные входы: ['0А', '0Б', '0В', '0Г', '1А', '1Б', '1В', '1Г']\n",
            "Возможные состояния: ['0А', '0Б', '0В', '0Г', '1А', '1Б', '1В', '1Г']\n",
            "Возможные выходы: ['АА', 'АБ', 'АВ', 'АГ', 'БА', 'ББ', 'БВ', 'БГ', 'ВА', 'ВБ', 'ВВ', 'ВГ', 'ГА', 'ГБ', 'ГВ', 'ГГ']\n"
          ]
        }
      ]
    },
    {
      "cell_type": "code",
      "metadata": {
        "colab": {
          "base_uri": "https://localhost:8080/"
        },
        "id": "pGzs7c6-Wg0p",
        "outputId": "90fd93e9-b7ca-49e2-f4f1-60c896ecdafa"
      },
      "source": [
        "def creature_transition_table(p_inp, p_st):\n",
        "  table = [[random.choice(p_inp) for j in range(len(p_inp))] for i in range(len(p_st))]\n",
        "\n",
        "  print('Таблица переходов Мили и Мура')\n",
        "  transition_table = PrettyTable()\n",
        "  columns = p_st.copy()\n",
        "  columns.insert(0, \"v1,v2/x'1,x'2\")\n",
        "  transition_table.field_names = columns\n",
        "\n",
        "  for i in range(len(p_inp)):\n",
        "    transition_table.add_row([p_inp[i], table[i][0], table[i][1],\n",
        "                            table[i][2], table[i][3], table[i][4],\n",
        "                            table[i][5], table[i][6], table[i][7]])\n",
        "\n",
        "  columns.clear()\n",
        "  print(transition_table)\n",
        "  return table\n",
        "\n",
        "trans_tab = creature_transition_table(pos_inputs, pos_states)"
      ],
      "execution_count": null,
      "outputs": [
        {
          "output_type": "stream",
          "name": "stdout",
          "text": [
            "Таблица переходов Мили и Мура\n",
            "+---------------+----+----+----+----+----+----+----+----+\n",
            "| v1,v2/x'1,x'2 | 0А | 0Б | 0В | 0Г | 1А | 1Б | 1В | 1Г |\n",
            "+---------------+----+----+----+----+----+----+----+----+\n",
            "|       0А      | 0Б | 0Г | 1Г | 1Г | 0В | 0А | 0Г | 1Б |\n",
            "|       0Б      | 1Г | 0В | 1А | 0А | 0В | 1В | 0В | 0Г |\n",
            "|       0В      | 1Г | 0Г | 1Б | 0А | 0Г | 0Г | 0А | 1А |\n",
            "|       0Г      | 0Г | 0А | 0Г | 1А | 0Г | 0В | 1В | 0Б |\n",
            "|       1А      | 1А | 0Г | 0Б | 1В | 0А | 0В | 1Б | 1В |\n",
            "|       1Б      | 1Б | 0В | 0В | 1В | 0Б | 0Б | 0Б | 0В |\n",
            "|       1В      | 1А | 1А | 1Г | 0А | 0Б | 1Б | 1В | 1Г |\n",
            "|       1Г      | 1А | 1А | 0В | 0Г | 1В | 0А | 1В | 1Б |\n",
            "+---------------+----+----+----+----+----+----+----+----+\n"
          ]
        }
      ]
    },
    {
      "cell_type": "markdown",
      "metadata": {
        "id": "JruCp-5FgNLi"
      },
      "source": [
        "#### Выходы для автомата Мили."
      ]
    },
    {
      "cell_type": "code",
      "metadata": {
        "colab": {
          "base_uri": "https://localhost:8080/"
        },
        "id": "x20soJGSfLMu",
        "outputId": "fe48701e-6c23-46b8-a947-1eb260a5be4b"
      },
      "source": [
        "def creature_output_table(p_inp, p_st, p_out):\n",
        "  table = [[random.choice(p_out) for j in range(len(p_inp))] for i in range(len(p_st))]\n",
        "  print('Таблица выходов для Мили')\n",
        "  output_table = PrettyTable()\n",
        "\n",
        "  columns2 = p_st.copy()\n",
        "  columns2.insert(0, \"v1,v2/x'1,x'2\")\n",
        "  output_table.field_names = columns2\n",
        "\n",
        "  for i in range(len(p_inp)):\n",
        "    output_table.add_row([p_inp[i], table[i][0], table[i][1],\n",
        "                            table[i][2], table[i][3], table[i][4],\n",
        "                            table[i][5], table[i][6], table[i][7]])\n",
        "\n",
        "  columns2.clear()\n",
        "  print(output_table)\n",
        "  return table\n",
        "\n",
        "out_tab = creature_output_table(pos_inputs, pos_states, pos_outputs)"
      ],
      "execution_count": null,
      "outputs": [
        {
          "output_type": "stream",
          "name": "stdout",
          "text": [
            "Таблица выходов для Мили\n",
            "+---------------+----+----+----+----+----+----+----+----+\n",
            "| v1,v2/x'1,x'2 | 0А | 0Б | 0В | 0Г | 1А | 1Б | 1В | 1Г |\n",
            "+---------------+----+----+----+----+----+----+----+----+\n",
            "|       0А      | БВ | БГ | АВ | ГА | БА | ББ | ВА | ВА |\n",
            "|       0Б      | ГА | ВБ | АВ | ББ | БВ | ВВ | АА | ВБ |\n",
            "|       0В      | ГА | ВГ | БА | АБ | ГА | БВ | ВГ | БГ |\n",
            "|       0Г      | БГ | ВА | ББ | БВ | АБ | ВВ | ВГ | ГБ |\n",
            "|       1А      | АВ | БГ | АГ | АБ | АВ | АБ | ГВ | ГБ |\n",
            "|       1Б      | АА | ГБ | ГГ | БВ | АБ | ВБ | ВБ | ВА |\n",
            "|       1В      | ГБ | АБ | АБ | ВВ | ББ | ВА | АВ | ВВ |\n",
            "|       1Г      | АБ | АБ | ГБ | ГБ | ВА | ГВ | БА | АБ |\n",
            "+---------------+----+----+----+----+----+----+----+----+\n"
          ]
        }
      ]
    },
    {
      "cell_type": "markdown",
      "metadata": {
        "id": "KShQJjB2krNZ"
      },
      "source": [
        "#### Отмеченная таблица переходов для автомата Мура."
      ]
    },
    {
      "cell_type": "code",
      "metadata": {
        "colab": {
          "base_uri": "https://localhost:8080/"
        },
        "id": "-SeKMclTkZTR",
        "outputId": "5cd527d3-82d8-4ad3-947d-2d1933daad90"
      },
      "source": [
        "def creature_marked_transition_table(p_inp, p_st, p_out, trans):\n",
        "  print('Отмеченная таблица переходов для Мура')\n",
        "  marked_transition_table = PrettyTable()\n",
        "  columns3 = p_st.copy()\n",
        "  columns3.insert(0, \"v1,v2/x'1,x'2\")\n",
        "  marked_transition_table.field_names = columns3\n",
        "\n",
        "  for i in range(len(p_inp)):\n",
        "    marked_transition_table.add_row([p_inp[i], trans[i][0], trans[i][1],\n",
        "                            trans[i][2], trans[i][3], trans[i][4],\n",
        "                            trans[i][5], trans[i][6], trans[i][7]])\n",
        "  marked_transition_table.add_row(['','','','','','','','',''])\n",
        "\n",
        "  table = [random.choice(p_out) for j in range(len(p_st))]\n",
        "  marked_transition_table.add_row(['y1,y1', table[0], table[1], table[2],\n",
        "                                 table[3], table[4], table[5], table[6], table[7]])\n",
        "\n",
        "  columns3.clear()\n",
        "  print(marked_transition_table)\n",
        "  return table\n",
        "\n",
        "input_y = creature_marked_transition_table(pos_inputs, pos_states, pos_outputs, trans_tab)"
      ],
      "execution_count": null,
      "outputs": [
        {
          "output_type": "stream",
          "name": "stdout",
          "text": [
            "Отмеченная таблица переходов для Мура\n",
            "+---------------+----+----+----+----+----+----+----+----+\n",
            "| v1,v2/x'1,x'2 | 0А | 0Б | 0В | 0Г | 1А | 1Б | 1В | 1Г |\n",
            "+---------------+----+----+----+----+----+----+----+----+\n",
            "|       0А      | 0Б | 0Г | 1Г | 1Г | 0В | 0А | 0Г | 1Б |\n",
            "|       0Б      | 1Г | 0В | 1А | 0А | 0В | 1В | 0В | 0Г |\n",
            "|       0В      | 1Г | 0Г | 1Б | 0А | 0Г | 0Г | 0А | 1А |\n",
            "|       0Г      | 0Г | 0А | 0Г | 1А | 0Г | 0В | 1В | 0Б |\n",
            "|       1А      | 1А | 0Г | 0Б | 1В | 0А | 0В | 1Б | 1В |\n",
            "|       1Б      | 1Б | 0В | 0В | 1В | 0Б | 0Б | 0Б | 0В |\n",
            "|       1В      | 1А | 1А | 1Г | 0А | 0Б | 1Б | 1В | 1Г |\n",
            "|       1Г      | 1А | 1А | 0В | 0Г | 1В | 0А | 1В | 1Б |\n",
            "|               |    |    |    |    |    |    |    |    |\n",
            "|     y1,y1     | ВВ | ВВ | БА | ББ | БГ | БГ | БВ | ГГ |\n",
            "+---------------+----+----+----+----+----+----+----+----+\n"
          ]
        }
      ]
    },
    {
      "cell_type": "markdown",
      "metadata": {
        "id": "VoVafUZc5yb8"
      },
      "source": [
        "#### Выходы для интерпретирующего автомата Мили."
      ]
    },
    {
      "cell_type": "code",
      "metadata": {
        "colab": {
          "base_uri": "https://localhost:8080/"
        },
        "id": "jN2gSESP54IW",
        "outputId": "d9a3585a-50f4-4acc-9ce6-cda702ff4c45"
      },
      "source": [
        "print('Таблица выходов для интерпретирующего автомата Мили')\n",
        "interpretive_output_table = PrettyTable()\n",
        "columns4 = pos_states.copy()\n",
        "columns4.insert(0, \"v1,v2/x'1,x'2\")\n",
        "interpretive_output_table.field_names = columns4\n",
        "\n",
        "int_out_tab = [[out_tab[i][j] if out_tab[i][j] in input_y else '--' for j in range(len(pos_inputs))] for i in range(len(pos_states))]\n",
        "for i in range(len(pos_inputs)):\n",
        "  interpretive_output_table.add_row([pos_inputs[i], int_out_tab[i][0], int_out_tab[i][1],\n",
        "                            int_out_tab[i][2], int_out_tab[i][3], int_out_tab[i][4],\n",
        "                            int_out_tab[i][5], int_out_tab[i][6], int_out_tab[i][7]])\n",
        "\n",
        "columns4.clear()\n",
        "print(interpretive_output_table)"
      ],
      "execution_count": null,
      "outputs": [
        {
          "output_type": "stream",
          "name": "stdout",
          "text": [
            "Таблица выходов для интерпретирующего автомата Мили\n",
            "+---------------+----+----+----+----+----+----+----+----+\n",
            "| v1,v2/x'1,x'2 | 0А | 0Б | 0В | 0Г | 1А | 1Б | 1В | 1Г |\n",
            "+---------------+----+----+----+----+----+----+----+----+\n",
            "|       0А      | БВ | БГ | -- | -- | БА | ББ | -- | -- |\n",
            "|       0Б      | -- | -- | -- | ББ | БВ | ВВ | -- | -- |\n",
            "|       0В      | -- | -- | БА | -- | -- | БВ | -- | БГ |\n",
            "|       0Г      | БГ | -- | ББ | БВ | -- | ВВ | -- | -- |\n",
            "|       1А      | -- | БГ | -- | -- | -- | -- | -- | -- |\n",
            "|       1Б      | -- | -- | ГГ | БВ | -- | -- | -- | -- |\n",
            "|       1В      | -- | -- | -- | ВВ | ББ | -- | -- | ВВ |\n",
            "|       1Г      | -- | -- | -- | -- | -- | -- | БА | -- |\n",
            "+---------------+----+----+----+----+----+----+----+----+\n"
          ]
        }
      ]
    },
    {
      "cell_type": "markdown",
      "metadata": {
        "id": "z356mC459w_l"
      },
      "source": [
        "####Таблица соединений конечного автомата"
      ]
    },
    {
      "cell_type": "code",
      "metadata": {
        "id": "ePVJFnKbLi0l"
      },
      "source": [
        "#Для удобства и простоты построения матрицы соединений, можно использовать тип DF\n",
        "trans_copy = pd.DataFrame(trans_tab.copy(), columns = pos_states)\n",
        "trans_copy['input'] = pd.Series([''.join(pos_inputs[i]) for i in range(len(pos_inputs))], index=trans_copy.index)\n",
        "\n",
        "out_copy = pd.DataFrame(out_tab.copy(), columns = pos_states)\n",
        "out_copy['input'] = pd.Series([''.join(pos_inputs[i]) for i in range(len(pos_inputs))], index=out_copy.index)"
      ],
      "execution_count": null,
      "outputs": []
    },
    {
      "cell_type": "code",
      "metadata": {
        "id": "ckklB3UK9-ax",
        "colab": {
          "base_uri": "https://localhost:8080/"
        },
        "outputId": "fc2c6eed-1bf4-4683-9f2b-5124aee27391"
      },
      "source": [
        "def creatly_connection_table(trans, out, p_st, p_inp):\n",
        "  print('Таблица соединений конечного автомата')\n",
        "  connection_table = PrettyTable()\n",
        "  columns = p_st.copy()\n",
        "  columns.insert(0, \"x'1,x'2/x1,x2\")\n",
        "  connection_table.field_names = columns\n",
        "\n",
        "  table = pd.DataFrame('0', index=range(trans.shape[1]-1), columns=trans.columns)\n",
        "\n",
        "  for i in range(table.shape[0]):\n",
        "    table['input'][i] = table.columns[i]\n",
        "\n",
        "  print(table.shape[0])\n",
        "\n",
        "  for i in table.columns[0:table.columns.shape[0]-1]:\n",
        "    for j in range(table.shape[0]):\n",
        "      cell = trans.index[trans[i] == table[table.columns[table.shape[1]-1] ][j]]\n",
        "      if len(cell) != 0:\n",
        "        table[i][j] = '';\n",
        "        for k in range(len(cell)):\n",
        "          table[i][j] += out[out.columns[out.shape[1]-1]][cell[k]] + '/' + out[i][cell[k]]\n",
        "          if k != len(cell)-1:\n",
        "            table[i][j] += ' v '\n",
        "  table\n",
        "  #for i in range(len(p_inp)):\n",
        "    #connection_table.add_row([p_st[i], table[i, p_st[0]], table[i, p_st[1]],\n",
        "                            #table[i, p_st[2]], table[i, p_st[3]], table[i, p_st[4]],\n",
        "                            #table[i, p_st[5]], table[i, p_st[6]], table[i, p_st[7]])\n",
        "\n",
        "  columns.clear()\n",
        "  #print(connection_table)\n",
        "\n",
        "creatly_connection_table(trans_copy, out_copy, pos_states, pos_inputs)"
      ],
      "execution_count": null,
      "outputs": [
        {
          "output_type": "stream",
          "name": "stdout",
          "text": [
            "Таблица соединений конечного автомата\n",
            "8\n"
          ]
        }
      ]
    },
    {
      "cell_type": "code",
      "metadata": {
        "colab": {
          "base_uri": "https://localhost:8080/",
          "height": 439
        },
        "id": "01lZX62mCaNR",
        "outputId": "5525a9f9-9d76-4d9e-fc04-5a84629cab88"
      },
      "source": [
        "#матрица соединений конечного автомата\n",
        "def creatly_connection_table2(trans, out):\n",
        "    table = pd.DataFrame('0', index=range(trans.shape[1]-1), columns=trans.columns)\n",
        "\n",
        "    for i in range(table.shape[0]):\n",
        "        table['input'][i] = table.columns[i]\n",
        "\n",
        "    for i in table.columns[0:table.columns.shape[0]-1]:\n",
        "        for j in range(table.shape[0]):\n",
        "            cell = trans.index[trans[i] == table[table.columns[table.shape[1]-1] ][j]]\n",
        "            if len(cell) != 0:\n",
        "                table[i][j] = '';\n",
        "                for k in range(len(cell)):\n",
        "                    table[i][j] += out[out.columns[out.shape[1]-1]][cell[k]] + '/' + out[i][cell[k]]\n",
        "                    if k != len(cell)-1:\n",
        "                        table[i][j] += ' v '\n",
        "\n",
        "    return table\n",
        "\n",
        "creatly_connection_table2(trans_copy, out_copy)"
      ],
      "execution_count": null,
      "outputs": [
        {
          "output_type": "execute_result",
          "data": {
            "text/html": [
              "<div>\n",
              "<style scoped>\n",
              "    .dataframe tbody tr th:only-of-type {\n",
              "        vertical-align: middle;\n",
              "    }\n",
              "\n",
              "    .dataframe tbody tr th {\n",
              "        vertical-align: top;\n",
              "    }\n",
              "\n",
              "    .dataframe thead th {\n",
              "        text-align: right;\n",
              "    }\n",
              "</style>\n",
              "<table border=\"1\" class=\"dataframe\">\n",
              "  <thead>\n",
              "    <tr style=\"text-align: right;\">\n",
              "      <th></th>\n",
              "      <th>0А</th>\n",
              "      <th>0Б</th>\n",
              "      <th>0В</th>\n",
              "      <th>0Г</th>\n",
              "      <th>1А</th>\n",
              "      <th>1Б</th>\n",
              "      <th>1В</th>\n",
              "      <th>1Г</th>\n",
              "      <th>input</th>\n",
              "    </tr>\n",
              "  </thead>\n",
              "  <tbody>\n",
              "    <tr>\n",
              "      <th>0</th>\n",
              "      <td>0</td>\n",
              "      <td>0Г/ВА</td>\n",
              "      <td>0</td>\n",
              "      <td>0Б/ББ v 0В/АБ v 1В/ВВ</td>\n",
              "      <td>1А/АВ</td>\n",
              "      <td>0А/ББ v 1Г/ГВ</td>\n",
              "      <td>0В/ВГ</td>\n",
              "      <td>0</td>\n",
              "      <td>0А</td>\n",
              "    </tr>\n",
              "    <tr>\n",
              "      <th>1</th>\n",
              "      <td>0А/БВ</td>\n",
              "      <td>0</td>\n",
              "      <td>1А/АГ</td>\n",
              "      <td>0</td>\n",
              "      <td>1Б/АБ v 1В/ББ</td>\n",
              "      <td>1Б/ВБ</td>\n",
              "      <td>1Б/ВБ</td>\n",
              "      <td>0Г/ГБ</td>\n",
              "      <td>0Б</td>\n",
              "    </tr>\n",
              "    <tr>\n",
              "      <th>2</th>\n",
              "      <td>0</td>\n",
              "      <td>0Б/ВБ v 1Б/ГБ</td>\n",
              "      <td>1Б/ГГ v 1Г/ГБ</td>\n",
              "      <td>0</td>\n",
              "      <td>0А/БА v 0Б/БВ</td>\n",
              "      <td>0Г/ВВ v 1А/АБ</td>\n",
              "      <td>0Б/АА</td>\n",
              "      <td>1Б/ВА</td>\n",
              "      <td>0В</td>\n",
              "    </tr>\n",
              "    <tr>\n",
              "      <th>3</th>\n",
              "      <td>0Г/БГ</td>\n",
              "      <td>0А/БГ v 0В/ВГ v 1А/БГ</td>\n",
              "      <td>0Г/ББ</td>\n",
              "      <td>1Г/ГБ</td>\n",
              "      <td>0В/ГА v 0Г/АБ</td>\n",
              "      <td>0В/БВ</td>\n",
              "      <td>0А/ВА</td>\n",
              "      <td>0Б/ВБ</td>\n",
              "      <td>0Г</td>\n",
              "    </tr>\n",
              "    <tr>\n",
              "      <th>4</th>\n",
              "      <td>1А/АВ v 1В/ГБ v 1Г/АБ</td>\n",
              "      <td>1В/АБ v 1Г/АБ</td>\n",
              "      <td>0Б/АВ</td>\n",
              "      <td>0Г/БВ</td>\n",
              "      <td>0</td>\n",
              "      <td>0</td>\n",
              "      <td>0</td>\n",
              "      <td>0В/БГ</td>\n",
              "      <td>1А</td>\n",
              "    </tr>\n",
              "    <tr>\n",
              "      <th>5</th>\n",
              "      <td>1Б/АА</td>\n",
              "      <td>0</td>\n",
              "      <td>0В/БА</td>\n",
              "      <td>0</td>\n",
              "      <td>0</td>\n",
              "      <td>1В/ВА</td>\n",
              "      <td>1А/ГВ</td>\n",
              "      <td>0А/ВА v 1Г/АБ</td>\n",
              "      <td>1Б</td>\n",
              "    </tr>\n",
              "    <tr>\n",
              "      <th>6</th>\n",
              "      <td>0</td>\n",
              "      <td>0</td>\n",
              "      <td>0</td>\n",
              "      <td>1А/АБ v 1Б/БВ</td>\n",
              "      <td>1Г/ВА</td>\n",
              "      <td>0Б/ВВ</td>\n",
              "      <td>0Г/ВГ v 1В/АВ v 1Г/БА</td>\n",
              "      <td>1А/ГБ</td>\n",
              "      <td>1В</td>\n",
              "    </tr>\n",
              "    <tr>\n",
              "      <th>7</th>\n",
              "      <td>0Б/ГА v 0В/ГА</td>\n",
              "      <td>0</td>\n",
              "      <td>0А/АВ v 1В/АБ</td>\n",
              "      <td>0А/ГА</td>\n",
              "      <td>0</td>\n",
              "      <td>0</td>\n",
              "      <td>0</td>\n",
              "      <td>1В/ВВ</td>\n",
              "      <td>1Г</td>\n",
              "    </tr>\n",
              "  </tbody>\n",
              "</table>\n",
              "</div>"
            ],
            "text/plain": [
              "                      0А                     0Б  ...             1Г input\n",
              "0                      0                  0Г/ВА  ...              0    0А\n",
              "1                  0А/БВ                      0  ...          0Г/ГБ    0Б\n",
              "2                      0          0Б/ВБ v 1Б/ГБ  ...          1Б/ВА    0В\n",
              "3                  0Г/БГ  0А/БГ v 0В/ВГ v 1А/БГ  ...          0Б/ВБ    0Г\n",
              "4  1А/АВ v 1В/ГБ v 1Г/АБ          1В/АБ v 1Г/АБ  ...          0В/БГ    1А\n",
              "5                  1Б/АА                      0  ...  0А/ВА v 1Г/АБ    1Б\n",
              "6                      0                      0  ...          1А/ГБ    1В\n",
              "7          0Б/ГА v 0В/ГА                      0  ...          1В/ВВ    1Г\n",
              "\n",
              "[8 rows x 9 columns]"
            ]
          },
          "metadata": {},
          "execution_count": 34
        }
      ]
    }
  ]
}