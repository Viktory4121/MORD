{
  "nbformat": 4,
  "nbformat_minor": 0,
  "metadata": {
    "colab": {
      "provenance": [],
      "authorship_tag": "ABX9TyPkHTpLkb7pXnS0DQ9nJrjA",
      "include_colab_link": true
    },
    "kernelspec": {
      "name": "python3",
      "display_name": "Python 3"
    },
    "language_info": {
      "name": "python"
    }
  },
  "cells": [
    {
      "cell_type": "markdown",
      "metadata": {
        "id": "view-in-github",
        "colab_type": "text"
      },
      "source": [
        "<a href=\"https://colab.research.google.com/github/Viktory4121/MORD/blob/main/%D0%9A%D0%90.ipynb\" target=\"_parent\"><img src=\"https://colab.research.google.com/assets/colab-badge.svg\" alt=\"Open In Colab\"/></a>"
      ]
    },
    {
      "cell_type": "markdown",
      "source": [
        "#Конечные автоматы Мили и Мура\n",
        "Вариант 5"
      ],
      "metadata": {
        "id": "xrLAuUfZMD-T"
      }
    },
    {
      "cell_type": "code",
      "execution_count": 2,
      "metadata": {
        "id": "7knbBDWHLVrd"
      },
      "outputs": [],
      "source": [
        "import numpy as np\n",
        "import pandas as pd\n",
        "import random\n",
        "import copy\n",
        "from prettytable import PrettyTable"
      ]
    },
    {
      "cell_type": "code",
      "source": [
        "def equiv(a,b): # ~\n",
        "  rez = 0\n",
        "  if((a == 1 and b == 1) or (a == 0 and b == 0)): rez = 1\n",
        "  return rez\n",
        "\n",
        "def implic(a,b): # ->\n",
        "  rez = 1\n",
        "  if(a == 1 and b == 0): rez = 0\n",
        "  return rez\n",
        "\n",
        "def pier(a,b): # ^\n",
        "  rez = 0\n",
        "  if(a == 0 and b == 0): rez = 1\n",
        "  return rez\n",
        "\n",
        "def schaeffer(a,b): # |\n",
        "  rez = 1\n",
        "  if(a == 1 and b == 1): rez = 0\n",
        "  return rez"
      ],
      "metadata": {
        "id": "tO3GlVMFCZfO"
      },
      "execution_count": 3,
      "outputs": []
    },
    {
      "cell_type": "markdown",
      "source": [
        "##Построение таблицы истинности:"
      ],
      "metadata": {
        "id": "Z77wIMqwN8QP"
      }
    },
    {
      "cell_type": "code",
      "source": [
        "#таблица истинности\n",
        "def truthTable(p_inp, p_st, x, v):\n",
        "  inner_table = [[(str(t1_x1(p_st[i], p_inp[j])) + str(t1_x2(p_st[i], p_inp[j]))) for j in range(len(p_inp))] for i in range(len(p_st))]\n",
        "\n",
        "  print('Таблица истинности для автомата Мили')\n",
        "  table = PrettyTable()\n",
        "  columns = p_st.copy()\n",
        "  columns.insert(0, \"v \\ x\")\n",
        "  table.field_names = columns\n",
        "\n",
        "  for i in range(len(p_inp)):\n",
        "    table.add_row([p_inp[i], inner_table[i][0], inner_table[i][1],\n",
        "                             inner_table[i][2], inner_table[i][3]])\n",
        "\n",
        "  columns.clear()\n",
        "  print(table)\n",
        "  return inner_table\n",
        "\n",
        "#таблица выходов\n",
        "def outputTable(p_inp, p_st, x, v):\n",
        "  inner_table = [[(str(t1_y1(p_st[i])) + str(t1_y2(p_st[i]))\n",
        "                  + str(t1_y3(p_st[i])) + str(t1_y4(p_st[i]))) for j in range(len(p_inp))] for i in range(len(p_st))]\n",
        "\n",
        "  print('Таблица выходов для автомата Мили')\n",
        "  table = PrettyTable()\n",
        "  columns = p_st.copy()\n",
        "  columns.insert(0, \"v \\ x\")\n",
        "  table.field_names = columns\n",
        "\n",
        "  for i in range(len(p_inp)):\n",
        "    table.add_row([p_inp[i], inner_table[i][0], inner_table[i][1],\n",
        "                             inner_table[i][2], inner_table[i][3]])\n",
        "\n",
        "  columns.clear()\n",
        "  print(table)\n",
        "  return inner_table"
      ],
      "metadata": {
        "id": "ZDwlnBLl1fAx"
      },
      "execution_count": 26,
      "outputs": []
    },
    {
      "cell_type": "markdown",
      "source": [
        "###Задача 1. Мили"
      ],
      "metadata": {
        "id": "98iDQLVPMgqG"
      }
    },
    {
      "cell_type": "code",
      "source": [
        "x0 = [0, 1]\n",
        "\n",
        "#2 входа - v\n",
        "v = [0, 1]\n",
        "#2 состояния - x1/x2\n",
        "x = [0, 1]\n",
        "#4 выхода - y1/y2/y3/y4\n",
        "\n",
        "#+(сумма по модулю 22), ^(стрелка пирса), & и v(конъюнкция и дизъюнкция)\n",
        "#|(штрих шеффера), '(отрицание)\n",
        "#->(импликация) и ~(эквивалентность)"
      ],
      "metadata": {
        "id": "oJeJJMSPMbJ8"
      },
      "execution_count": 15,
      "outputs": []
    },
    {
      "cell_type": "code",
      "source": [
        "pos_inputs = []\n",
        "for i in range(len(v)):\n",
        "  for j in range(len(v)):\n",
        "    pos_inputs.append(str(v[i]) + str(v[j]))\n",
        "print('Возможные входы:', pos_inputs)\n",
        "\n",
        "pos_states = []\n",
        "for i in range(len(x)):\n",
        "  for j in range(len(x)):\n",
        "    pos_states.append(str(x[i]) + str(x[j]))\n",
        "print('Возможные состояния:', pos_states)"
      ],
      "metadata": {
        "colab": {
          "base_uri": "https://localhost:8080/"
        },
        "id": "8OY8dUO3YvJv",
        "outputId": "1a76e83d-7cab-43c4-9131-a0c146309418"
      },
      "execution_count": 16,
      "outputs": [
        {
          "output_type": "stream",
          "name": "stdout",
          "text": [
            "Возможные входы: ['00', '01', '10', '11']\n",
            "Возможные состояния: ['00', '01', '10', '11']\n"
          ]
        }
      ]
    },
    {
      "cell_type": "code",
      "source": [
        "def t1_x1(x, v):\n",
        "  #v1 + (x2 | x1 + v2 v (v2 + (x2 ^ x2)))\n",
        "  rezult = int(v[0]) ^ (schaeffer(int(x[1]), int(x[0])) ^ int(v[1]) or (int(v[1]) ^ pier(int(x[1]), int(x[1]))))\n",
        "  return rezult\n",
        "\n",
        "def t1_x2(x, v):\n",
        "  #v1 -> v1 | (x1 ' | v1 + x1 ^ v2)\n",
        "  rezult = schaeffer(implic(int(v[0]), int(v[0])), pier(schaeffer(int(x[0]), not int(v[0])) ^ int(x[0]), int(v[1])))\n",
        "  return rezult\n",
        "\n",
        "def t1_y1(x):\n",
        "  #x1 v x2 + x2 | x1 ~ x1 ~ (x2 ' -> x1)\n",
        "  rezult = equiv(equiv(schaeffer(int(x[0]) or int(x[1]) ^ int(x[1]), int(x[0])), int(x[0])), implic(int(x[1]), not int(x[0])))\n",
        "  return rezult\n",
        "\n",
        "def t1_y2(x):\n",
        "  #x1 ~ x2 ^ (x1 + x2 | (x2 ~ x2))\n",
        "  rezult = pier(equiv(int(x[0]), int(x[1])), schaeffer(int(x[0]) ^ int(x[1]), equiv(int(x[1]), int(x[1]))))\n",
        "  return rezult\n",
        "\n",
        "def t1_y3(x):\n",
        "  #x2 & x2 | x2 + x2 ^ x2\n",
        "  rezult = pier(schaeffer(int(x[1]) and int(x[1]), int(x[1])) ^ int(x[1]), int(x[1]))\n",
        "  return rezult\n",
        "\n",
        "def t1_y4(x):\n",
        "  #x1 v x1 ~ x2 & (x2 ^ x1 ^ x2)\n",
        "  rezult = equiv(int(x[0]) or int(x[0]), int(x[1]) and pier(pier(int(x[1]), int(x[0])), int(x[1])))\n",
        "  return rezult"
      ],
      "metadata": {
        "id": "GmKjsnMlM59X"
      },
      "execution_count": 22,
      "outputs": []
    },
    {
      "cell_type": "code",
      "source": [
        "truth_table = truthTable(pos_inputs, pos_states, x, v)"
      ],
      "metadata": {
        "colab": {
          "base_uri": "https://localhost:8080/"
        },
        "id": "baelF15MU5LB",
        "outputId": "929feb6d-a683-4cb7-cdd0-a9010ce21ad5"
      },
      "execution_count": 23,
      "outputs": [
        {
          "output_type": "stream",
          "name": "stdout",
          "text": [
            "Таблица истинности для автомата Мили\n",
            "+-------+----+----+----+----+\n",
            "| v / x | 00 | 01 | 10 | 11 |\n",
            "+-------+----+----+----+----+\n",
            "|   00  | 11 | 01 | 01 | 11 |\n",
            "|   01  | 11 | 11 | 01 | 01 |\n",
            "|   10  | 11 | 01 | 00 | 11 |\n",
            "|   11  | 01 | 11 | 10 | 01 |\n",
            "+-------+----+----+----+----+\n"
          ]
        }
      ]
    },
    {
      "cell_type": "code",
      "source": [
        "output_table = outputTable(pos_inputs, pos_states, x, v)"
      ],
      "metadata": {
        "id": "te6uAnOx8aIq",
        "outputId": "1f4cab2f-bdb7-41c6-f78d-9b6b43d81ce7",
        "colab": {
          "base_uri": "https://localhost:8080/"
        }
      },
      "execution_count": 27,
      "outputs": [
        {
          "output_type": "stream",
          "name": "stdout",
          "text": [
            "Таблица выходов для автомата Мили\n",
            "+-------+------+------+------+------+\n",
            "| v \\ x |  00  |  01  |  10  |  11  |\n",
            "+-------+------+------+------+------+\n",
            "|   00  | 0001 | 0001 | 0001 | 0001 |\n",
            "|   01  | 0101 | 0101 | 0101 | 0101 |\n",
            "|   10  | 0100 | 0100 | 0100 | 0100 |\n",
            "|   11  | 1000 | 1000 | 1000 | 1000 |\n",
            "+-------+------+------+------+------+\n"
          ]
        }
      ]
    },
    {
      "cell_type": "markdown",
      "source": [
        "###Задача 2. Мура"
      ],
      "metadata": {
        "id": "6rdH0tF_NkCD"
      }
    },
    {
      "cell_type": "code",
      "source": [
        "x0 = [0, 0]\n",
        "#2 входа - v\n",
        "v = [0, 1]\n",
        "#2 состояния - x\n",
        "#4 выхода - y"
      ],
      "metadata": {
        "id": "Y7U_EimkNmqI"
      },
      "execution_count": null,
      "outputs": []
    },
    {
      "cell_type": "markdown",
      "source": [
        "##СКНФ/СДНФ\n"
      ],
      "metadata": {
        "id": "7xk7KrvgOEEq"
      }
    },
    {
      "cell_type": "code",
      "source": [],
      "metadata": {
        "id": "NaDmIoMhOHPs"
      },
      "execution_count": null,
      "outputs": []
    }
  ]
}