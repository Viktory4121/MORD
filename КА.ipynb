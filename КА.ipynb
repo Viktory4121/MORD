{
  "nbformat": 4,
  "nbformat_minor": 0,
  "metadata": {
    "colab": {
      "provenance": [],
      "authorship_tag": "ABX9TyNpNrXAfi4zDVbSWnEtYzQw",
      "include_colab_link": true
    },
    "kernelspec": {
      "name": "python3",
      "display_name": "Python 3"
    },
    "language_info": {
      "name": "python"
    }
  },
  "cells": [
    {
      "cell_type": "markdown",
      "metadata": {
        "id": "view-in-github",
        "colab_type": "text"
      },
      "source": [
        "<a href=\"https://colab.research.google.com/github/Viktory4121/MORD/blob/main/%D0%9A%D0%90.ipynb\" target=\"_parent\"><img src=\"https://colab.research.google.com/assets/colab-badge.svg\" alt=\"Open In Colab\"/></a>"
      ]
    },
    {
      "cell_type": "markdown",
      "source": [
        "#Конечные автоматы Мили и Мура\n",
        "Вариант 5"
      ],
      "metadata": {
        "id": "xrLAuUfZMD-T"
      }
    },
    {
      "cell_type": "code",
      "execution_count": 38,
      "metadata": {
        "id": "7knbBDWHLVrd"
      },
      "outputs": [],
      "source": [
        "import numpy as np\n",
        "import pandas as pd\n",
        "import random\n",
        "import copy\n",
        "from prettytable import PrettyTable"
      ]
    },
    {
      "cell_type": "code",
      "source": [
        "def equiv(a,b): # ~\n",
        "  rez = 0\n",
        "  if((a == 1 and b == 1) or (a == 0 and b == 0)): rez = 1\n",
        "  return rez\n",
        "\n",
        "def implic(a,b): # ->\n",
        "  rez = 1\n",
        "  if(a == 1 and b == 0): rez = 0\n",
        "  return rez\n",
        "\n",
        "def pier(a,b): # ^\n",
        "  rez = 0\n",
        "  if(a == 0 and b == 0): rez = 1\n",
        "  return rez\n",
        "\n",
        "def schaeffer(a,b): # |\n",
        "  rez = 1\n",
        "  if(a == 1 and b == 1): rez = 0\n",
        "  return rez"
      ],
      "metadata": {
        "id": "tO3GlVMFCZfO"
      },
      "execution_count": 39,
      "outputs": []
    },
    {
      "cell_type": "markdown",
      "source": [
        "##Построение таблицы истинности:"
      ],
      "metadata": {
        "id": "Z77wIMqwN8QP"
      }
    },
    {
      "cell_type": "code",
      "source": [
        "#таблица истинности\n",
        "def truthTable(p_inp, p_st, x, v):\n",
        "  inner_table = [[(str(x1(p_st[i], p_inp[j])) + str(x2(p_st[i], p_inp[j]))) for j in range(len(p_inp))] for i in range(len(p_st))]\n",
        "\n",
        "  print('Таблица истинности для автомата Мили')\n",
        "  table = PrettyTable()\n",
        "  columns = p_st.copy()\n",
        "  columns.insert(0, \"v \\ x\")\n",
        "  table.field_names = columns\n",
        "\n",
        "  for i in range(len(p_inp)):\n",
        "    table.add_row([p_inp[i], inner_table[i][0], inner_table[i][1],\n",
        "                             inner_table[i][2], inner_table[i][3]])\n",
        "\n",
        "  columns.clear()\n",
        "  print(table)\n",
        "  return inner_table\n",
        "\n",
        "#таблица выходов\n",
        "def outputTable(p_inp, p_st, x, v):\n",
        "  inner_table = [[(str(y1(p_st[i])) + str(y2(p_st[i]))\n",
        "                  + str(y3(p_st[i])) + str(y4(p_st[i]))) for j in range(len(p_inp))] for i in range(len(p_st))]\n",
        "\n",
        "  print('Таблица выходов для автомата Мили')\n",
        "  table = PrettyTable()\n",
        "  columns = p_st.copy()\n",
        "  columns.insert(0, \"v \\ x\")\n",
        "  table.field_names = columns\n",
        "\n",
        "  for i in range(len(p_inp)):\n",
        "    table.add_row([p_inp[i], inner_table[i][0], inner_table[i][1],\n",
        "                             inner_table[i][2], inner_table[i][3]])\n",
        "\n",
        "  columns.clear()\n",
        "  print(table)\n",
        "  return inner_table"
      ],
      "metadata": {
        "id": "ZDwlnBLl1fAx"
      },
      "execution_count": 40,
      "outputs": []
    },
    {
      "cell_type": "markdown",
      "source": [
        "###Задача 1. Мили"
      ],
      "metadata": {
        "id": "98iDQLVPMgqG"
      }
    },
    {
      "cell_type": "code",
      "source": [
        "x0 = [0, 1]\n",
        "\n",
        "#2 входа - v\n",
        "v = [0, 1]\n",
        "#2 состояния - x1/x2\n",
        "x = [0, 1]\n",
        "#4 выхода - y1/y2/y3/y4\n",
        "\n",
        "#+(сумма по модулю 22), ^(стрелка пирса), & и v(конъюнкция и дизъюнкция)\n",
        "#|(штрих шеффера), '(отрицание)\n",
        "#->(импликация) и ~(эквивалентность)"
      ],
      "metadata": {
        "id": "oJeJJMSPMbJ8"
      },
      "execution_count": 41,
      "outputs": []
    },
    {
      "cell_type": "code",
      "source": [
        "pos_inputs = []\n",
        "for i in range(len(v)):\n",
        "  for j in range(len(v)):\n",
        "    pos_inputs.append(str(v[i]) + str(v[j]))\n",
        "print('Возможные входы:', pos_inputs)\n",
        "\n",
        "pos_states = []\n",
        "for i in range(len(x)):\n",
        "  for j in range(len(x)):\n",
        "    pos_states.append(str(x[i]) + str(x[j]))\n",
        "print('Возможные состояния:', pos_states)"
      ],
      "metadata": {
        "colab": {
          "base_uri": "https://localhost:8080/"
        },
        "id": "8OY8dUO3YvJv",
        "outputId": "870f36c3-9280-488d-d7a1-0b479108a419"
      },
      "execution_count": 42,
      "outputs": [
        {
          "output_type": "stream",
          "name": "stdout",
          "text": [
            "Возможные входы: ['00', '01', '10', '11']\n",
            "Возможные состояния: ['00', '01', '10', '11']\n"
          ]
        }
      ]
    },
    {
      "cell_type": "code",
      "source": [
        "def x1(x, v):\n",
        "  #v1 + (x2 | x1 + v2 v (v2 + (x2 ^ x2)))\n",
        "  rezult = int(v[0]) ^ (schaeffer(int(x[1]), int(x[0])) ^ int(v[1]) or (int(v[1]) ^ pier(int(x[1]), int(x[1]))))\n",
        "  return rezult\n",
        "\n",
        "def x2(x, v):\n",
        "  #v1 -> v1 | (x1 ' | v1 + x1 ^ v2)\n",
        "  rezult = schaeffer(implic(int(v[0]), int(v[0])), pier(schaeffer(int(x[0]), not int(v[0])) ^ int(x[0]), int(v[1])))\n",
        "  return rezult\n",
        "\n",
        "def y1(x):\n",
        "  #x1 v x2 + x2 | x1 ~ x1 ~ (x2 ' -> x1)\n",
        "  rezult = equiv(equiv(schaeffer(int(x[0]) or int(x[1]) ^ int(x[1]), int(x[0])), int(x[0])), implic(int(x[1]), not int(x[0])))\n",
        "  return rezult\n",
        "\n",
        "def y2(x):\n",
        "  #x1 ~ x2 ^ (x1 + x2 | (x2 ~ x2))\n",
        "  rezult = pier(equiv(int(x[0]), int(x[1])), schaeffer(int(x[0]) ^ int(x[1]), equiv(int(x[1]), int(x[1]))))\n",
        "  return rezult\n",
        "\n",
        "def y3(x):\n",
        "  #x2 & x2 | x2 + x2 ^ x2\n",
        "  rezult = pier(schaeffer(int(x[1]) and int(x[1]), int(x[1])) ^ int(x[1]), int(x[1]))\n",
        "  return rezult\n",
        "\n",
        "def y4(x):\n",
        "  #x1 v x1 ~ x2 & (x2 ^ x1 ^ x2)\n",
        "  rezult = equiv(int(x[0]) or int(x[0]), int(x[1]) and pier(pier(int(x[1]), int(x[0])), int(x[1])))\n",
        "  return rezult"
      ],
      "metadata": {
        "id": "GmKjsnMlM59X"
      },
      "execution_count": 46,
      "outputs": []
    },
    {
      "cell_type": "code",
      "source": [
        "truth_table = truthTable(pos_inputs, pos_states, x, v)"
      ],
      "metadata": {
        "colab": {
          "base_uri": "https://localhost:8080/"
        },
        "id": "baelF15MU5LB",
        "outputId": "c85d5fe3-11fc-4711-d808-ce181617e66c"
      },
      "execution_count": 47,
      "outputs": [
        {
          "output_type": "stream",
          "name": "stdout",
          "text": [
            "Таблица истинности для автомата Мили\n",
            "+-------+----+----+----+----+\n",
            "| v \\ x | 00 | 01 | 10 | 11 |\n",
            "+-------+----+----+----+----+\n",
            "|   00  | 11 | 01 | 01 | 11 |\n",
            "|   01  | 11 | 11 | 01 | 01 |\n",
            "|   10  | 11 | 01 | 00 | 11 |\n",
            "|   11  | 01 | 11 | 10 | 01 |\n",
            "+-------+----+----+----+----+\n"
          ]
        }
      ]
    },
    {
      "cell_type": "code",
      "source": [
        "output_table = outputTable(pos_inputs, pos_states, x, v)"
      ],
      "metadata": {
        "colab": {
          "base_uri": "https://localhost:8080/"
        },
        "id": "te6uAnOx8aIq",
        "outputId": "4719f027-4213-4556-944a-6ee4a5c8c765"
      },
      "execution_count": 48,
      "outputs": [
        {
          "output_type": "stream",
          "name": "stdout",
          "text": [
            "Таблица выходов для автомата Мили\n",
            "+-------+------+------+------+------+\n",
            "| v \\ x |  00  |  01  |  10  |  11  |\n",
            "+-------+------+------+------+------+\n",
            "|   00  | 0001 | 0001 | 0001 | 0001 |\n",
            "|   01  | 0101 | 0101 | 0101 | 0101 |\n",
            "|   10  | 0100 | 0100 | 0100 | 0100 |\n",
            "|   11  | 1000 | 1000 | 1000 | 1000 |\n",
            "+-------+------+------+------+------+\n"
          ]
        }
      ]
    },
    {
      "cell_type": "markdown",
      "source": [
        "###Задача 2. Мура"
      ],
      "metadata": {
        "id": "6rdH0tF_NkCD"
      }
    },
    {
      "cell_type": "code",
      "source": [
        "x0_2 = [0, 0]\n",
        "#2 входа - v\n",
        "#v = [0, 1]\n",
        "#2 состояния - x\n",
        "#4 выхода - y"
      ],
      "metadata": {
        "id": "Y7U_EimkNmqI"
      },
      "execution_count": 49,
      "outputs": []
    },
    {
      "cell_type": "code",
      "source": [
        "def x1(x, v):\n",
        "  #v1 -> (v2 & (x2 v v1 v v1 ^ x2 + (v2 -> x1 ~v2)))\n",
        "  rezult = implic(int(v[0]), int(v[1]) and (pier(int(x[1]) or int(v[0]) or int(v[0]), int(x[1])) ^ equiv(implic(int(v[1]), int(x[0])), int(v[1]))))\n",
        "  return rezult\n",
        "\n",
        "def x2(x, v):\n",
        "  #x1 | (x2 ^ v1 ' | (v1 ~ x1 + (x1 v v2)))\n",
        "  rezult = schaeffer(int(x[0]), schaeffer(pier(int(x[1]), not int(v[0])), (equiv(int(v[0]), int(x[0])) ^ (int(x[0]) or int(v[1])))))\n",
        "  return rezult\n",
        "\n",
        "def y1(x):\n",
        "  #x1 + v1 -> (x2 ^ v1 | (x1'))\n",
        "  rezult = int(x[0]) ^ implic(v[0], pier(x[1], schaeffer(v[0], not x[0])))\n",
        "  return rezult\n",
        "\n",
        "def y2(x):\n",
        "  #x2 v v2' -> (x2~v1)\n",
        "  rezult = implic(x[1] and (not v[1]), equiv(x[1], v[0]))\n",
        "  return rezult\n",
        "\n",
        "def y3(x):\n",
        "  #x1 & (x1 v (x2 & (x2 ^ (x1 & x2 + x1 | v2 & x1))))\n",
        "  rezult = x[0] and (x[0] or (x[1] and pier(x[1], schaeffer(x[0] and x[1] ^ x[0], v[1] and x[0]))))\n",
        "  return rezult\n",
        "\n",
        "def y4(x):\n",
        "  #v1 ^ x1' v (x1 v x2 -> x2 & (x2'))\n",
        "  rezult = pier(v[0], not x[0]) or (implic(x[0] or x[1], x[1] and (not x[1])))\n",
        "  return rezult"
      ],
      "metadata": {
        "id": "u8qGhc0lA3xs"
      },
      "execution_count": 51,
      "outputs": []
    },
    {
      "cell_type": "code",
      "source": [
        "truth_table2 = truthTable(pos_inputs, pos_states, x, v)"
      ],
      "metadata": {
        "id": "sdot0TkqKm37",
        "outputId": "b4f79206-2bd8-48ab-de8b-1612cb3c1ef0",
        "colab": {
          "base_uri": "https://localhost:8080/"
        }
      },
      "execution_count": 52,
      "outputs": [
        {
          "output_type": "stream",
          "name": "stdout",
          "text": [
            "Таблица истинности для автомата Мили\n",
            "+-------+----+----+----+----+\n",
            "| v \\ x | 00 | 01 | 10 | 11 |\n",
            "+-------+----+----+----+----+\n",
            "|   00  | 11 | 11 | 01 | 01 |\n",
            "|   01  | 11 | 11 | 01 | 01 |\n",
            "|   10  | 10 | 10 | 00 | 10 |\n",
            "|   11  | 10 | 10 | 00 | 10 |\n",
            "+-------+----+----+----+----+\n"
          ]
        }
      ]
    },
    {
      "cell_type": "code",
      "source": [
        "output_table = outputTable(pos_inputs, pos_states, x, v)"
      ],
      "metadata": {
        "id": "oQuXGlI7LnkK",
        "outputId": "54c752a7-6502-4400-d204-9d929123f77f",
        "colab": {
          "base_uri": "https://localhost:8080/"
        }
      },
      "execution_count": 53,
      "outputs": [
        {
          "output_type": "stream",
          "name": "stdout",
          "text": [
            "Таблица выходов для автомата Мили\n",
            "+-------+------+------+------+------+\n",
            "| v \\ x |  00  |  01  |  10  |  11  |\n",
            "+-------+------+------+------+------+\n",
            "|   00  | 1101 | 1101 | 1101 | 1101 |\n",
            "|   01  | 1101 | 1101 | 1101 | 1101 |\n",
            "|   10  | 0111 | 0111 | 0111 | 0111 |\n",
            "|   11  | 0111 | 0111 | 0111 | 0111 |\n",
            "+-------+------+------+------+------+\n"
          ]
        }
      ]
    },
    {
      "cell_type": "markdown",
      "source": [
        "##СКНФ/СДНФ\n"
      ],
      "metadata": {
        "id": "7xk7KrvgOEEq"
      }
    },
    {
      "cell_type": "code",
      "source": [],
      "metadata": {
        "id": "NaDmIoMhOHPs"
      },
      "execution_count": null,
      "outputs": []
    }
  ]
}