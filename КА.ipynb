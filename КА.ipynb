{
  "nbformat": 4,
  "nbformat_minor": 0,
  "metadata": {
    "colab": {
      "provenance": [],
      "authorship_tag": "ABX9TyP1WcOSyfDD8SP9cREITWHh",
      "include_colab_link": true
    },
    "kernelspec": {
      "name": "python3",
      "display_name": "Python 3"
    },
    "language_info": {
      "name": "python"
    }
  },
  "cells": [
    {
      "cell_type": "markdown",
      "metadata": {
        "id": "view-in-github",
        "colab_type": "text"
      },
      "source": [
        "<a href=\"https://colab.research.google.com/github/Viktory4121/MORD/blob/main/%D0%9A%D0%90.ipynb\" target=\"_parent\"><img src=\"https://colab.research.google.com/assets/colab-badge.svg\" alt=\"Open In Colab\"/></a>"
      ]
    },
    {
      "cell_type": "markdown",
      "source": [
        "#Конечные автоматы Мили и Мура\n",
        "Вариант 5"
      ],
      "metadata": {
        "id": "xrLAuUfZMD-T"
      }
    },
    {
      "cell_type": "code",
      "execution_count": 2,
      "metadata": {
        "id": "7knbBDWHLVrd"
      },
      "outputs": [],
      "source": [
        "import numpy as np\n",
        "import pandas as pd\n",
        "import random\n",
        "import copy\n",
        "from prettytable import PrettyTable"
      ]
    },
    {
      "cell_type": "code",
      "source": [
        "def equiv(a,b): # ~\n",
        "  rez = 0\n",
        "  if((a == 1 and b == 1) or (a == 0 and b == 0)): rez = 1\n",
        "  return rez\n",
        "\n",
        "def implic(a,b): # ->\n",
        "  rez = 1\n",
        "  if(a == 1 and b == 0): rez = 0\n",
        "  return rez\n",
        "\n",
        "def pier(a,b): # ^\n",
        "  rez = 0\n",
        "  if(a == 0 and b == 0): rez = 1\n",
        "  return rez\n",
        "\n",
        "def schaeffer(a,b): # |\n",
        "  rez = 1\n",
        "  if(a == 1 and b == 1): rez = 0\n",
        "  return rez"
      ],
      "metadata": {
        "id": "tO3GlVMFCZfO"
      },
      "execution_count": 3,
      "outputs": []
    },
    {
      "cell_type": "markdown",
      "source": [
        "##Построение таблицы истинности:"
      ],
      "metadata": {
        "id": "Z77wIMqwN8QP"
      }
    },
    {
      "cell_type": "markdown",
      "source": [
        "###Задача 1. Мили"
      ],
      "metadata": {
        "id": "98iDQLVPMgqG"
      }
    },
    {
      "cell_type": "code",
      "source": [
        "x0 = [0, 1]\n",
        "\n",
        "#2 входа - v\n",
        "v = [0, 1]\n",
        "#2 состояния - x1/x2\n",
        "#4 выхода - y1/y2/y3/y4\n",
        "\n",
        "#По поводу символов: +(сумма по модулю 22), ^(стрелка пирса), ну амперсанд и v(конъюнкция и дизъюнкция)\n",
        "#|(штрих шеффера), '(отрицание)\n",
        "#->(импликация вроде) и ~(эквивалентность)"
      ],
      "metadata": {
        "id": "oJeJJMSPMbJ8"
      },
      "execution_count": 5,
      "outputs": []
    },
    {
      "cell_type": "code",
      "source": [
        "def t1_x1(x, v):\n",
        "  #v1 + (x2 | x1 + v2 v (v2 + (x2 ^ x2)))\n",
        "  rezult = v[0] ^ (schaeffer(x[1], x[0]) ^ v[1] or (v[1] ^ pier(x[1], x[1])))\n",
        "  return rezult\n",
        "\n",
        "def t1_x2(x, v):\n",
        "  #v1 -> v1 | (x1 ' | v1 + x1 ^ v2)\n",
        "  rezult = schaeffer(implic(v[0], v[0]), pier(schaeffer(x[0], not v[0]) ^ x[0], v[1]))\n",
        "  return rezult\n",
        "\n",
        "def t1_y1(x):\n",
        "  #x1 v x2 + x2 | x1 ~ x1 ~ (x2 ' -> x1)\n",
        "  rezult = equiv(equiv(schaeffer(x[0] or x[1] ^ x[1], x[0]), x[0]), implic(x[1], not x[0]))\n",
        "  return rezult\n",
        "\n",
        "def t1_y2(x):\n",
        "  #x1 ~ x2 ^ (x1 + x2 | (x2 ~ x2))\n",
        "  rezult = pier(equiv(x[0], x[1]), schaeffer(x[0] ^ x[1], equiv(x[1], x[1])))\n",
        "  return rezult\n",
        "\n",
        "def t1_y3(x):\n",
        "  #x2 & x2 | x2 + x2 ^ x2\n",
        "  rezult = pier(schaeffer(x[1] and x[1], x[1]) ^ x[1], x[1])\n",
        "  return rezult\n",
        "\n",
        "def t1_y4(x):\n",
        "  #x1 v x1 ~ x2 & (x2 ^ x1 ^ x2)\n",
        "  rezult = equiv(x[0] or x[0], x[1] and pier(pier(x[1], x[0]), x[1]))\n",
        "  return rezult"
      ],
      "metadata": {
        "id": "GmKjsnMlM59X"
      },
      "execution_count": 4,
      "outputs": []
    },
    {
      "cell_type": "code",
      "source": [],
      "metadata": {
        "id": "baelF15MU5LB"
      },
      "execution_count": null,
      "outputs": []
    },
    {
      "cell_type": "markdown",
      "source": [
        "###Задача 2. Мура"
      ],
      "metadata": {
        "id": "6rdH0tF_NkCD"
      }
    },
    {
      "cell_type": "code",
      "source": [
        "x0 = [0, 0]\n",
        "#2 входа - v\n",
        "v = [0, 1]\n",
        "#2 состояния - x\n",
        "#4 выхода - y"
      ],
      "metadata": {
        "id": "Y7U_EimkNmqI"
      },
      "execution_count": null,
      "outputs": []
    },
    {
      "cell_type": "markdown",
      "source": [
        "##СКНФ/СДНФ\n"
      ],
      "metadata": {
        "id": "7xk7KrvgOEEq"
      }
    },
    {
      "cell_type": "code",
      "source": [],
      "metadata": {
        "id": "NaDmIoMhOHPs"
      },
      "execution_count": null,
      "outputs": []
    }
  ]
}