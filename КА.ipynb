{
  "nbformat": 4,
  "nbformat_minor": 0,
  "metadata": {
    "colab": {
      "provenance": [],
      "authorship_tag": "ABX9TyOzL4N75n003kfFyM9Wi24i",
      "include_colab_link": true
    },
    "kernelspec": {
      "name": "python3",
      "display_name": "Python 3"
    },
    "language_info": {
      "name": "python"
    }
  },
  "cells": [
    {
      "cell_type": "markdown",
      "metadata": {
        "id": "view-in-github",
        "colab_type": "text"
      },
      "source": [
        "<a href=\"https://colab.research.google.com/github/Viktory4121/MORD/blob/main/%D0%9A%D0%90.ipynb\" target=\"_parent\"><img src=\"https://colab.research.google.com/assets/colab-badge.svg\" alt=\"Open In Colab\"/></a>"
      ]
    },
    {
      "cell_type": "markdown",
      "source": [
        "#Конечные автоматы Мили и Мура\n",
        "Вариант 5"
      ],
      "metadata": {
        "id": "xrLAuUfZMD-T"
      }
    },
    {
      "cell_type": "code",
      "execution_count": 1,
      "metadata": {
        "id": "7knbBDWHLVrd"
      },
      "outputs": [],
      "source": [
        "import numpy as np\n",
        "import pandas as pd\n",
        "import random\n",
        "import copy\n",
        "from prettytable import PrettyTable"
      ]
    },
    {
      "cell_type": "markdown",
      "source": [
        "##Построение таблицы истинности:"
      ],
      "metadata": {
        "id": "Z77wIMqwN8QP"
      }
    },
    {
      "cell_type": "markdown",
      "source": [
        "###Задача 1. Мили"
      ],
      "metadata": {
        "id": "98iDQLVPMgqG"
      }
    },
    {
      "cell_type": "code",
      "source": [
        "x0 = [0, 1]\n",
        "\n",
        "#2 входа - v\n",
        "v = [0, 1]\n",
        "#2 состояния - x\n",
        "#4 выхода - y"
      ],
      "metadata": {
        "id": "oJeJJMSPMbJ8"
      },
      "execution_count": 2,
      "outputs": []
    },
    {
      "cell_type": "code",
      "source": [],
      "metadata": {
        "id": "GmKjsnMlM59X"
      },
      "execution_count": null,
      "outputs": []
    },
    {
      "cell_type": "markdown",
      "source": [
        "###Задача 2. Мура"
      ],
      "metadata": {
        "id": "6rdH0tF_NkCD"
      }
    },
    {
      "cell_type": "code",
      "source": [
        "x0 = [0, 0]\n",
        "#2 входа - v\n",
        "v = [0, 1]\n",
        "#2 состояния - x\n",
        "#4 выхода - y"
      ],
      "metadata": {
        "id": "Y7U_EimkNmqI"
      },
      "execution_count": null,
      "outputs": []
    },
    {
      "cell_type": "markdown",
      "source": [
        "##СКНФ/СДНФ\n"
      ],
      "metadata": {
        "id": "7xk7KrvgOEEq"
      }
    },
    {
      "cell_type": "code",
      "source": [],
      "metadata": {
        "id": "NaDmIoMhOHPs"
      },
      "execution_count": null,
      "outputs": []
    }
  ]
}